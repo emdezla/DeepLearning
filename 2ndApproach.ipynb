{
 "cells": [
  {
   "cell_type": "code",
   "execution_count": 1,
   "metadata": {},
   "outputs": [],
   "source": [
    "import torch\n",
    "import torch.nn as nn\n",
    "import torch.nn.functional as F\n",
    "import prologuefunctions as prologue #Library for loading data\n",
    "from IPython.core.debugger import set_trace\n",
    "from torch import optim\n",
    "from torch import Tensor\n",
    "import matplotlib.pyplot as plt"
   ]
  },
  {
   "cell_type": "markdown",
   "metadata": {},
   "source": [
    "# Load Data"
   ]
  },
  {
   "cell_type": "code",
   "execution_count": 2,
   "metadata": {},
   "outputs": [
    {
     "name": "stdout",
     "output_type": "stream",
     "text": [
      "Using downloaded and verified file: ./data/mnist/MNIST/raw/train-images-idx3-ubyte.gz\n",
      "Extracting ./data/mnist/MNIST/raw/train-images-idx3-ubyte.gz to ./data/mnist/MNIST/raw\n",
      "Using downloaded and verified file: ./data/mnist/MNIST/raw/train-labels-idx1-ubyte.gz\n",
      "Extracting ./data/mnist/MNIST/raw/train-labels-idx1-ubyte.gz to ./data/mnist/MNIST/raw\n",
      "Using downloaded and verified file: ./data/mnist/MNIST/raw/t10k-images-idx3-ubyte.gz\n",
      "Extracting ./data/mnist/MNIST/raw/t10k-images-idx3-ubyte.gz to ./data/mnist/MNIST/raw\n",
      "Using downloaded and verified file: ./data/mnist/MNIST/raw/t10k-labels-idx1-ubyte.gz\n",
      "Extracting ./data/mnist/MNIST/raw/t10k-labels-idx1-ubyte.gz to ./data/mnist/MNIST/raw\n",
      "Processing...\n",
      "Done!\n"
     ]
    }
   ],
   "source": [
    "N = 1000\n",
    "train_input, train_target, train_classes, test_input, test_target, test_classes = prologue.generate_pair_sets(N)"
   ]
  },
  {
   "cell_type": "markdown",
   "metadata": {},
   "source": [
    "# Data Preprocess"
   ]
  },
  {
   "cell_type": "code",
   "execution_count": 3,
   "metadata": {},
   "outputs": [
    {
     "name": "stdout",
     "output_type": "stream",
     "text": [
      "torch.Size([100, 2, 14, 14])\n"
     ]
    }
   ],
   "source": [
    "train_input_centered = train_input - train_input.mean(0)\n",
    "print(train_input.narrow(0,0,100).size())"
   ]
  },
  {
   "cell_type": "markdown",
   "metadata": {},
   "source": [
    "# Constructing NN"
   ]
  },
  {
   "cell_type": "code",
   "execution_count": 44,
   "metadata": {},
   "outputs": [],
   "source": [
    "class Net(nn.Module):\n",
    "    \n",
    "    def __init__(self):\n",
    "        super(Net, self).__init__()\n",
    "        \n",
    "        self.conv1 = nn.Conv2d(2, 16, kernel_size = 3)\n",
    "        self.bn1 = nn.BatchNorm2d(16)\n",
    "        \n",
    "        self.conv2 = nn.Conv2d(16, 32, kernel_size = 3)\n",
    "        self.bn2 = nn.BatchNorm2d(32)\n",
    "        \n",
    "        self.fc1_aux = nn.Linear(128, 100)\n",
    "        self.out1 = nn.Linear(100, 20)\n",
    "        \n",
    "        self.fc1 = nn.Sequential(nn.Dropout2d(p=0.4), nn.Linear(128,100))\n",
    "        self.out2 = nn.Linear(100, 2)\n",
    "        \n",
    "    def forward(self, x):\n",
    "        \n",
    "        x = F.relu(F.max_pool2d(self.conv1(x), kernel_size=2, stride=2))\n",
    "        x = self.bn1(x)\n",
    "        \n",
    "        x = F.relu(F.max_pool2d(self.conv2(x), kernel_size=2, stride=2))\n",
    "        x = self.bn2(x)\n",
    "        \n",
    "        y = F.relu(self.fc1_aux(x.view(-1, 128)))\n",
    "        y = self.out1(y)\n",
    "        y = y.view(-1,2,10)\n",
    "        \n",
    "        x = F.relu(self.fc1(x.view(-1,128)))\n",
    "    \n",
    "        x = self.out2(x)\n",
    "        \n",
    "        return x, y\n",
    "\n"
   ]
  },
  {
   "cell_type": "code",
   "execution_count": 38,
   "metadata": {},
   "outputs": [],
   "source": [
    "class ResBlock(nn.Module):\n",
    "    def __init__(self, channels, kernel_size):\n",
    "        super(ResBlock, self).__init__()\n",
    "        \n",
    "        self.conv1 = nn.Conv2d(channels, channels, kernel_size, padding = (kernel_size - 1)//2 )\n",
    "        self.bn1 = nn.BatchNorm(channels)\n",
    "        \n",
    "        self.conv2 = nn.Conv2d(channels, channels, kernel_size, padding = (kernel_size - 1)//2)\n",
    "        self.bn2 = nn.BarchNorm(channels)\n",
    "        \n",
    "    def forward(self, x):\n",
    "        \n",
    "        y = self.conv1(x)\n",
    "        y = self.bn1(y)\n",
    "        \n",
    "        y = self.conv2(y)\n",
    "        y = self.bn2(y)\n",
    "        \n",
    "        y = y + x\n",
    "        y = F.relu(y)\n",
    "        \n",
    "        return y\n",
    "    \n",
    "    "
   ]
  },
  {
   "cell_type": "markdown",
   "metadata": {},
   "source": [
    "# Training NN\n",
    "\n",
    "- Batch\n",
    "- number epochs\n",
    "- learning rate\n"
   ]
  },
  {
   "cell_type": "code",
   "execution_count": 39,
   "metadata": {},
   "outputs": [],
   "source": [
    "def training_model(train_input, train_target, model, batch, lr):\n",
    "    optimizer = torch.optim.SGD(model.parameters(), lr = lr)\n",
    "    criterion = nn.CrossEntropyLoss()\n",
    "    total_loss = 0\n",
    "    for b in range(0, train_input.size(0), batch):\n",
    "        output = model(train_input.narrow(0, b, batch))            \n",
    "        loss = criterion(output, train_target.narrow(0, b, batch))\n",
    "        model.zero_grad()\n",
    "        loss.backward()\n",
    "        optimizer.step()\n",
    "        total_loss += loss.item()\n",
    "    return total_loss"
   ]
  },
  {
   "cell_type": "code",
   "execution_count": 40,
   "metadata": {},
   "outputs": [],
   "source": [
    "def compute_nb_errors(model, data_input, data_target, batch):\n",
    "    \n",
    "    nb_data_errors = 0\n",
    "\n",
    "    for b in range(0, data_input.size(0), batch):\n",
    "        output = model(data_input.narrow(0, b, batch))\n",
    "        _, predicted_classes = torch.max(output, 1)\n",
    "        for k in range(batch):\n",
    "            if data_target[b + k] != predicted_classes[k]:\n",
    "                nb_data_errors = nb_data_errors + 1\n",
    "    return nb_data_errors"
   ]
  },
  {
   "cell_type": "code",
   "execution_count": 48,
   "metadata": {},
   "outputs": [],
   "source": [
    "def training_aux(train_input, train_target, train_classes, model, batch, lr):\n",
    "    optimizer = torch.optim.SGD(model.parameters(), lr = lr)\n",
    "    Binary_Criterion = nn.CrossEntropyLoss()\n",
    "    Aux_Criterion = nn.CrossEntropyLoss()\n",
    "    total_loss_aux = 0\n",
    "    total_loss_bin = 0\n",
    "    final_total_loss = 0\n",
    "    for b in range(0, train_input.size(0), batch):\n",
    "        output, aux = model(train_input.narrow(0, b, batch))\n",
    "        target_classes = train_classes.narrow(0, b, batch)\n",
    "        target_comparison = train_target.narrow(0, b, batch)\n",
    "        aux_loss = Aux_Criterion(aux[:,0], target_classes[:,0]) + Aux_Criterion(aux[:,0], target_classes[:,1])\n",
    "        binary_loss = Binary_Criterion(output, target_comparison)\n",
    "        final_loss = 0.9*binary_loss + 0.1*aux_loss\n",
    "        model.zero_grad()\n",
    "        final_loss.backward()\n",
    "        optimizer.step()\n",
    "        total_loss_aux += aux_loss\n",
    "        total_loss_bin += binary_loss\n",
    "        final_total_loss += final_loss\n",
    "    return final_total_loss, total_loss_aux, total_loss_bin\n",
    "    \n",
    "    "
   ]
  },
  {
   "cell_type": "code",
   "execution_count": 49,
   "metadata": {},
   "outputs": [],
   "source": [
    "def compute_nb_errors_aux(model, data_input, data_target, batch):\n",
    "    \n",
    "    nb_data_errors = 0\n",
    "\n",
    "    for b in range(0, data_input.size(0), batch):\n",
    "        output, _ = model(data_input.narrow(0, b, batch))\n",
    "        _, predicted_classes = torch.max(output, 1)\n",
    "        for k in range(batch):\n",
    "            if data_target[b + k] != predicted_classes[k]:\n",
    "                nb_data_errors = nb_data_errors + 1\n",
    "    return nb_data_errors"
   ]
  },
  {
   "cell_type": "code",
   "execution_count": 50,
   "metadata": {},
   "outputs": [
    {
     "name": "stdout",
     "output_type": "stream",
     "text": [
      "269   285\n",
      "227   265\n",
      "209   251\n",
      "172   240\n",
      "146   235\n",
      "128   221\n",
      "121   234\n",
      "115   229\n",
      "91   217\n",
      "85   225\n",
      "83   221\n",
      "73   218\n",
      "76   214\n",
      "60   228\n",
      "45   237\n",
      "48   213\n",
      "67   232\n",
      "46   210\n",
      "51   201\n",
      "38   208\n",
      "39   216\n",
      "37   202\n",
      "27   226\n",
      "57   214\n",
      "35   219\n",
      "27   223\n",
      "35   221\n",
      "23   216\n",
      "21   216\n",
      "38   220\n",
      "24   220\n",
      "39   204\n",
      "30   206\n",
      "28   199\n",
      "19   214\n",
      "13   213\n",
      "14   219\n",
      "25   227\n",
      "21   216\n",
      "14   208\n",
      "16   210\n",
      "31   210\n",
      "19   198\n",
      "17   229\n",
      "27   207\n",
      "11   201\n",
      "23   224\n",
      "8   202\n",
      "19   229\n",
      "21   208\n",
      "10   205\n",
      "22   196\n",
      "21   189\n",
      "11   197\n",
      "12   210\n",
      "18   223\n",
      "15   213\n",
      "17   211\n",
      "10   201\n",
      "17   208\n",
      "12   209\n",
      "11   191\n",
      "10   203\n",
      "10   215\n",
      "12   197\n",
      "9   210\n",
      "10   204\n",
      "8   214\n",
      "10   197\n",
      "17   221\n",
      "17   210\n",
      "12   210\n",
      "9   214\n",
      "12   211\n",
      "10   195\n",
      "10   197\n",
      "9   205\n",
      "9   215\n",
      "14   207\n",
      "12   226\n",
      "14   198\n",
      "12   213\n",
      "8   200\n",
      "9   195\n",
      "11   210\n",
      "13   189\n",
      "9   209\n",
      "19   187\n",
      "20   216\n",
      "11   202\n",
      "9   201\n",
      "10   211\n",
      "8   207\n",
      "12   214\n",
      "7   213\n",
      "6   207\n",
      "10   203\n",
      "5   197\n",
      "14   197\n",
      "11   199\n"
     ]
    }
   ],
   "source": [
    "epochs = 100\n",
    "losses = torch.zeros((3, epochs))\n",
    "model = Net()\n",
    "for e in range(epochs):\n",
    "    training_aux(train_input, train_target, train_classes, model , 100, 0.1)\n",
    "    print(compute_nb_errors_aux(model, train_input,train_target, 100), \" \",compute_nb_errors_aux(model, test_input,test_target, 100))\n",
    "\n"
   ]
  },
  {
   "cell_type": "code",
   "execution_count": 22,
   "metadata": {},
   "outputs": [
    {
     "data": {
      "text/plain": [
       "tensor([[1, 2, 3],\n",
       "        [4, 5, 6]])"
      ]
     },
     "execution_count": 22,
     "metadata": {},
     "output_type": "execute_result"
    }
   ],
   "source": []
  },
  {
   "cell_type": "code",
   "execution_count": 61,
   "metadata": {},
   "outputs": [
    {
     "data": {
      "text/plain": [
       "tensor([[5],\n",
       "        [7],\n",
       "        [9]])"
      ]
     },
     "execution_count": 61,
     "metadata": {},
     "output_type": "execute_result"
    }
   ],
   "source": [
    "train_classes.narrow(0,1,3)[:,0].view(3,1)"
   ]
  },
  {
   "cell_type": "code",
   "execution_count": null,
   "metadata": {},
   "outputs": [],
   "source": []
  }
 ],
 "metadata": {
  "kernelspec": {
   "display_name": "Python 3",
   "language": "python",
   "name": "python3"
  },
  "language_info": {
   "codemirror_mode": {
    "name": "ipython",
    "version": 3
   },
   "file_extension": ".py",
   "mimetype": "text/x-python",
   "name": "python",
   "nbconvert_exporter": "python",
   "pygments_lexer": "ipython3",
   "version": "3.7.4"
  }
 },
 "nbformat": 4,
 "nbformat_minor": 2
}
