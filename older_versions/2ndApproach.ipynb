{
 "cells": [
  {
   "cell_type": "code",
   "execution_count": 1,
   "metadata": {},
   "outputs": [],
   "source": [
    "import torch\n",
    "import torch.nn as nn\n",
    "import torch.nn.functional as F\n",
    "import prologuefunctions as prologue #Library for loading data\n",
    "from IPython.core.debugger import set_trace\n",
    "from torch import optim\n",
    "from torch import Tensor\n",
    "import matplotlib.pyplot as plt"
   ]
  },
  {
   "cell_type": "markdown",
   "metadata": {},
   "source": [
    "# Load Data"
   ]
  },
  {
   "cell_type": "code",
   "execution_count": 2,
   "metadata": {},
   "outputs": [
    {
     "name": "stdout",
     "output_type": "stream",
     "text": [
      "Using downloaded and verified file: ./data/mnist/MNIST/raw/train-images-idx3-ubyte.gz\n",
      "Extracting ./data/mnist/MNIST/raw/train-images-idx3-ubyte.gz to ./data/mnist/MNIST/raw\n",
      "Using downloaded and verified file: ./data/mnist/MNIST/raw/train-labels-idx1-ubyte.gz\n",
      "Extracting ./data/mnist/MNIST/raw/train-labels-idx1-ubyte.gz to ./data/mnist/MNIST/raw\n",
      "Using downloaded and verified file: ./data/mnist/MNIST/raw/t10k-images-idx3-ubyte.gz\n",
      "Extracting ./data/mnist/MNIST/raw/t10k-images-idx3-ubyte.gz to ./data/mnist/MNIST/raw\n",
      "Using downloaded and verified file: ./data/mnist/MNIST/raw/t10k-labels-idx1-ubyte.gz\n",
      "Extracting ./data/mnist/MNIST/raw/t10k-labels-idx1-ubyte.gz to ./data/mnist/MNIST/raw\n",
      "Processing...\n",
      "Done!\n"
     ]
    }
   ],
   "source": [
    "N = 1000\n",
    "train_input, train_target, train_classes, test_input, test_target, test_classes = prologue.generate_pair_sets(N)"
   ]
  },
  {
   "cell_type": "markdown",
   "metadata": {},
   "source": [
    "# Data Preprocess"
   ]
  },
  {
   "cell_type": "code",
   "execution_count": 44,
   "metadata": {},
   "outputs": [
    {
     "name": "stdout",
     "output_type": "stream",
     "text": [
      "torch.Size([100, 2, 14, 14])\n"
     ]
    }
   ],
   "source": [
    "train_input_centered = train_input - train_input.mean(0)\n",
    "print(train_input.narrow(0,0,100).size()) "
   ]
  },
  {
   "cell_type": "code",
   "execution_count": 51,
   "metadata": {},
   "outputs": [
    {
     "data": {
      "image/png": "[encoded data removed]",
      "text/plain": [
       "<Figure size 432x288 with 1 Axes>"
      ]
     },
     "metadata": {
      "needs_background": "light"
     },
     "output_type": "display_data"
    }
   ],
   "source": [
    "plt.imshow(train_input[7,0], cmap=\"gray\")\n",
    "plt.show()"
   ]
  },
  {
   "cell_type": "code",
   "execution_count": 52,
   "metadata": {},
   "outputs": [
    {
     "data": {
      "image/png": "[encoded data removed]",
      "text/plain": [
       "<Figure size 432x288 with 1 Axes>"
      ]
     },
     "metadata": {
      "needs_background": "light"
     },
     "output_type": "display_data"
    }
   ],
   "source": [
    "plt.imshow(train_input[7,1], cmap=\"gray\")\n",
    "plt.show()\n"
   ]
  },
  {
   "cell_type": "markdown",
   "metadata": {},
   "source": [
    "# Constructing NN"
   ]
  },
  {
   "cell_type": "code",
   "execution_count": 4,
   "metadata": {},
   "outputs": [],
   "source": [
    "class Net(nn.Module):\n",
    "    \n",
    "    def __init__(self):\n",
    "        super(Net, self).__init__()\n",
    "        \n",
    "        self.conv1 = nn.Conv2d(2, 16, kernel_size = 3)\n",
    "        self.bn1 = nn.BatchNorm2d(16)\n",
    "        \n",
    "        self.conv2 = nn.Conv2d(16, 32, kernel_size = 3)\n",
    "        self.bn2 = nn.BatchNorm2d(32)\n",
    "        \n",
    "        self.fc1 = nn.Linear(128, 100)\n",
    "        self.out1 = nn.Linear(100, 20)\n",
    "        \n",
    "        self.fc2 = nn.Sequential(nn.Dropout2d(p=0.4), nn.Linear(100,100))\n",
    "        self.out2 = nn.Linear(100, 2)\n",
    "        \n",
    "    def forward(self, x):\n",
    "        \n",
    "        x = F.relu(F.max_pool2d(self.conv1(x), kernel_size=2, stride=2))\n",
    "        x = self.bn1(x)\n",
    "        \n",
    "        x = F.relu(F.max_pool2d(self.conv2(x), kernel_size=2, stride=2))\n",
    "        x = self.bn2(x)\n",
    "        \n",
    "        x = F.relu(self.fc1(x.view(-1, 128)))\n",
    "        y = self.out1(x)\n",
    "        y = y.view(-1,2,10)\n",
    "        \n",
    "        x = F.relu(self.fc2(x))\n",
    "    \n",
    "        x = self.out2(x)\n",
    "        \n",
    "        return x, y\n",
    "\n"
   ]
  },
  {
   "cell_type": "code",
   "execution_count": 5,
   "metadata": {},
   "outputs": [],
   "source": [
    "class Net2(nn.Module):\n",
    "    \n",
    "    def __init__(self):\n",
    "        super(Net2, self).__init__()\n",
    "        \n",
    "        self.conv1 = nn.Conv2d(2, 16, kernel_size = 3)\n",
    "        self.bn1 = nn.BatchNorm2d(16)\n",
    "        \n",
    "        self.conv2 = nn.Conv2d(16, 32, kernel_size = 3)\n",
    "        self.bn2 = nn.BatchNorm2d(32)\n",
    "        \n",
    "        self.fc1 = nn.Linear(128, 100)\n",
    "        self.out1 = nn.Linear(100, 10)\n",
    "        self.out2 = nn.Linear(100,10)\n",
    "        \n",
    "        self.fc2 = nn.Sequential(nn.Dropout2d(p=0.4), nn.Linear(100,100))\n",
    "        self.out = nn.Linear(100, 2)\n",
    "        \n",
    "    def forward(self, x):\n",
    "        \n",
    "        x = F.relu(F.max_pool2d(self.conv1(x), kernel_size=2, stride=2))\n",
    "        x = self.bn1(x)\n",
    "        \n",
    "        x = F.relu(F.max_pool2d(self.conv2(x), kernel_size=2, stride=2))\n",
    "        x = self.bn2(x)\n",
    "        \n",
    "        x = F.relu(self.fc1(x.view(-1, 128)))\n",
    "        y = self.out1(x)\n",
    "        \n",
    "        \n",
    "        z = self.out2(x)\n",
    "        \n",
    "        \n",
    "        x = F.relu(self.fc2(x))\n",
    "    \n",
    "        x = self.out(x)\n",
    "        \n",
    "        return x, y, z \n",
    "\n"
   ]
  },
  {
   "cell_type": "code",
   "execution_count": 6,
   "metadata": {},
   "outputs": [],
   "source": [
    "class ResBlock(nn.Module):\n",
    "    def __init__(self, input_channels, channels, stride = 1,dim_change = None):\n",
    "        super(ResBlock, self).__init__()\n",
    "        \n",
    "        self.conv1 = nn.Conv2d(input_channels, channels, kernel_size = 3, stride = stride, padding = 1)\n",
    "        self.bn1 = nn.BatchNorm2d(channels)\n",
    "        \n",
    "        self.conv2 = nn.Conv2d(channels, channels, kernel_size = 3, padding = 1)\n",
    "        self.bn2 = nn.BatchNorm2d(channels)\n",
    "        \n",
    "        self.dim_change = dim_change\n",
    "        \n",
    "    def forward(self,x):\n",
    "        \n",
    "        res = x\n",
    "        \n",
    "        y = F.relu(self.bn1(self.conv1(x)))\n",
    "      \n",
    "        y = self.bn2(self.conv2(y))\n",
    "        \n",
    "        if self.dim_change is not None:\n",
    "            res = self.dim_change(res)\n",
    "        y += res\n",
    "        y = F.relu(y)\n",
    "        \n",
    "        return y\n",
    "    "
   ]
  },
  {
   "cell_type": "code",
   "execution_count": 54,
   "metadata": {},
   "outputs": [],
   "source": [
    "\n",
    "class ResNet(nn.Module):\n",
    "    def __init__(self, block, layers):\n",
    "        super(ResNet,self).__init__()\n",
    "        \n",
    "        self.input_channels = 16\n",
    "        self.conv1 = nn.Conv2d(2, 16, kernel_size = 3, padding = 1)\n",
    "        self.bn1 = nn.BatchNorm2d(16)\n",
    "        \n",
    "        self.drop1 = nn.Dropout2d(p = 0.6)\n",
    "        self.layer1 = self.make_layer(block, 16, layers[0])\n",
    "        self.layer2 = self.make_layer(block, 32, layers[0], 2)\n",
    "        self.avg_pool = nn.AvgPool2d(7)\n",
    "        \n",
    "        self.drop2 = nn.Dropout2d(p=0.6)\n",
    "        self.fc1 = nn.Linear(32,100)\n",
    "        self.out1 = nn.Linear(100,20)\n",
    "        \n",
    "        self.drop3 = nn.Dropout2d(p = 0.6)\n",
    "        self.fc2 = nn.Linear(100, 100)\n",
    "        self.out2 = nn.Linear(100,2)\n",
    "        \n",
    "        \n",
    "        \n",
    "    def make_layer(self, block, out_channels, blocks, stride = 1):\n",
    "        dim_change = None\n",
    "        if (self.input_channels == out_channels) or (stride !=1):\n",
    "            dim_change = nn.Sequential(nn.Conv2d(self.input_channels, out_channels, kernel_size = 3, stride = stride, padding = 1),\n",
    "                                       nn.BatchNorm2d(out_channels))\n",
    "        layers = []\n",
    "        layers.append(block(self.input_channels, out_channels, stride,dim_change))\n",
    "        self.input_channels = out_channels\n",
    "        for i in range(1,blocks):\n",
    "            layers.append(block(out_channels, out_channels))\n",
    "        return nn.Sequential(*layers)\n",
    "    \n",
    "    def forward(self, x):\n",
    "        \n",
    "        x = F.relu(self.bn1(self.conv1(x)))\n",
    "        x = self.drop1(x)\n",
    "        x = self.layer1(x)\n",
    "        x = self.layer2(x)\n",
    "        x = self.avg_pool(x)\n",
    "        x = self.drop2(x)\n",
    "        x = F.relu(self.fc1(x.view(-1,32)))\n",
    "        y = self.out1(x)\n",
    "        y = y.view(-1,2,10)\n",
    "        x = self.drop3(x)\n",
    "        x = F.relu(self.fc2(x))\n",
    "        x = self.out2(x)\n",
    "        \n",
    "        return x,y\n",
    "        \n",
    "        \n",
    "        "
   ]
  },
  {
   "cell_type": "markdown",
   "metadata": {},
   "source": [
    "# Training NN\n",
    "\n",
    "- Batch\n",
    "- number epochs\n",
    "- learning rate\n"
   ]
  },
  {
   "cell_type": "code",
   "execution_count": 10,
   "metadata": {},
   "outputs": [],
   "source": [
    "def training_model(train_input, train_target, model, batch, lr):\n",
    "    optimizer = torch.optim.SGD(model.parameters(), lr = lr)\n",
    "    criterion = nn.CrossEntropyLoss()\n",
    "    total_loss = 0\n",
    "    for b in range(0, train_input.size(0), batch):\n",
    "        output = model(train_input.narrow(0, b, batch))            \n",
    "        loss = criterion(output, train_target.narrow(0, b, batch))\n",
    "        model.zero_grad()\n",
    "        loss.backward()\n",
    "        optimizer.step()\n",
    "        total_loss += loss.item()\n",
    "    return total_loss"
   ]
  },
  {
   "cell_type": "code",
   "execution_count": 11,
   "metadata": {},
   "outputs": [],
   "source": [
    "def compute_nb_errors(model, data_input, data_target, batch):\n",
    "    \n",
    "    nb_data_errors = 0\n",
    "\n",
    "    for b in range(0, data_input.size(0), batch):\n",
    "        output = model(data_input.narrow(0, b, batch))\n",
    "        _, predicted_classes = torch.max(output, 1)\n",
    "        for k in range(batch):\n",
    "            if data_target[b + k] != predicted_classes[k]:\n",
    "                nb_data_errors = nb_data_errors + 1\n",
    "    return nb_data_errors"
   ]
  },
  {
   "cell_type": "code",
   "execution_count": 41,
   "metadata": {},
   "outputs": [],
   "source": [
    "def training_aux(train_input, train_target, train_classes, model, batch, lr):\n",
    "    optimizer = torch.optim.SGD(model.parameters(), lr = lr)\n",
    "    Binary_Criterion = nn.CrossEntropyLoss()\n",
    "    Aux_Criterion = nn.CrossEntropyLoss()\n",
    "    total_loss_aux = 0\n",
    "    total_loss_bin = 0\n",
    "    final_total_loss = 0\n",
    "    for b in range(0, train_input.size(0), batch):\n",
    "        output, aux = model(train_input.narrow(0, b, batch))\n",
    "        target_classes = train_classes.narrow(0, b, batch)\n",
    "        target_comparison = train_target.narrow(0, b, batch)\n",
    "        aux_loss = Aux_Criterion(aux[:,0], target_classes[:,0]) + Aux_Criterion(aux[:,0], target_classes[:,1])\n",
    "        binary_loss = Binary_Criterion(output, target_comparison)\n",
    "        final_loss = 0.7*binary_loss + 0.3*aux_loss\n",
    "        model.zero_grad()\n",
    "        final_loss.backward()\n",
    "        optimizer.step()\n",
    "        total_loss_aux += aux_loss\n",
    "        total_loss_bin += binary_loss\n",
    "        final_total_loss += final_loss\n",
    "    return final_total_loss, total_loss_aux, total_loss_bin\n",
    "    \n",
    "    "
   ]
  },
  {
   "cell_type": "code",
   "execution_count": 32,
   "metadata": {},
   "outputs": [],
   "source": [
    "def compute_nb_errors_aux(model, data_input, data_target, batch):\n",
    "    \n",
    "    nb_data_errors = 0\n",
    "\n",
    "    for b in range(0, data_input.size(0), batch):\n",
    "        output,_ = model(data_input.narrow(0, b, batch))\n",
    "        _, predicted_classes = torch.max(output, 1)\n",
    "        for k in range(batch):\n",
    "            if data_target[b + k] != predicted_classes[k]:\n",
    "                nb_data_errors = nb_data_errors + 1\n",
    "    return nb_data_errors"
   ]
  },
  {
   "cell_type": "code",
   "execution_count": 14,
   "metadata": {},
   "outputs": [],
   "source": [
    "def training_aux2(train_input, train_target, train_classes, model, batch, lr):\n",
    "    optimizer = torch.optim.SGD(model.parameters(), lr = lr)\n",
    "    Binary_Criterion = nn.CrossEntropyLoss()\n",
    "    Aux_Criterion = nn.CrossEntropyLoss()\n",
    "    total_loss_aux = 0\n",
    "    total_loss_bin = 0\n",
    "    final_total_loss = 0\n",
    "    for b in range(0, train_input.size(0), batch):\n",
    "        output, aux1, aux2 = model(train_input.narrow(0, b, batch))\n",
    "        target_classes = train_classes.narrow(0, b, batch)\n",
    "        target_comparison = train_target.narrow(0, b, batch)\n",
    "        aux_loss = Aux_Criterion(aux1, target_classes[:,0]) + Aux_Criterion(aux2, target_classes[:,1])\n",
    "        binary_loss = Binary_Criterion(output, target_comparison)\n",
    "        final_loss = 0.9*binary_loss + 0.1*aux_loss\n",
    "        model.zero_grad()\n",
    "        final_loss.backward()\n",
    "        optimizer.step()\n",
    "        total_loss_aux += aux_loss\n",
    "        total_loss_bin += binary_loss\n",
    "        final_total_loss += final_loss\n",
    "    return final_total_loss, total_loss_aux, total_loss_bin\n",
    "    "
   ]
  },
  {
   "cell_type": "code",
   "execution_count": 22,
   "metadata": {},
   "outputs": [
    {
     "ename": "ValueError",
     "evalue": "not enough values to unpack (expected 3, got 2)",
     "output_type": "error",
     "traceback": [
      "\u001b[0;31m---------------------------------------------------------------------------\u001b[0m",
      "\u001b[0;31mValueError\u001b[0m                                Traceback (most recent call last)",
      "\u001b[0;32m<ipython-input-22-bd4e68a0a8a1>\u001b[0m in \u001b[0;36m<module>\u001b[0;34m\u001b[0m\n\u001b[1;32m      4\u001b[0m \u001b[0;32mfor\u001b[0m \u001b[0me\u001b[0m \u001b[0;32min\u001b[0m \u001b[0mrange\u001b[0m\u001b[0;34m(\u001b[0m\u001b[0mepochs\u001b[0m\u001b[0;34m)\u001b[0m\u001b[0;34m:\u001b[0m\u001b[0;34m\u001b[0m\u001b[0;34m\u001b[0m\u001b[0m\n\u001b[1;32m      5\u001b[0m     \u001b[0mtraining_aux\u001b[0m\u001b[0;34m(\u001b[0m\u001b[0mtrain_input\u001b[0m\u001b[0;34m,\u001b[0m \u001b[0mtrain_target\u001b[0m\u001b[0;34m,\u001b[0m \u001b[0mtrain_classes\u001b[0m\u001b[0;34m,\u001b[0m \u001b[0mmodel\u001b[0m \u001b[0;34m,\u001b[0m \u001b[0;36m100\u001b[0m\u001b[0;34m,\u001b[0m \u001b[0;36m0.05\u001b[0m\u001b[0;34m)\u001b[0m\u001b[0;34m\u001b[0m\u001b[0;34m\u001b[0m\u001b[0m\n\u001b[0;32m----> 6\u001b[0;31m     \u001b[0mprint\u001b[0m\u001b[0;34m(\u001b[0m\u001b[0mcompute_nb_errors_aux\u001b[0m\u001b[0;34m(\u001b[0m\u001b[0mmodel\u001b[0m\u001b[0;34m,\u001b[0m \u001b[0mtrain_input\u001b[0m\u001b[0;34m,\u001b[0m\u001b[0mtrain_target\u001b[0m\u001b[0;34m,\u001b[0m \u001b[0;36m100\u001b[0m\u001b[0;34m)\u001b[0m\u001b[0;34m,\u001b[0m \u001b[0;34m\" \"\u001b[0m\u001b[0;34m,\u001b[0m\u001b[0mcompute_nb_errors_aux\u001b[0m\u001b[0;34m(\u001b[0m\u001b[0mmodel\u001b[0m\u001b[0;34m,\u001b[0m \u001b[0mtest_input\u001b[0m\u001b[0;34m,\u001b[0m\u001b[0mtest_target\u001b[0m\u001b[0;34m,\u001b[0m \u001b[0;36m100\u001b[0m\u001b[0;34m)\u001b[0m\u001b[0;34m)\u001b[0m\u001b[0;34m\u001b[0m\u001b[0;34m\u001b[0m\u001b[0m\n\u001b[0m\u001b[1;32m      7\u001b[0m \u001b[0;34m\u001b[0m\u001b[0m\n",
      "\u001b[0;32m<ipython-input-19-46ba99f4f349>\u001b[0m in \u001b[0;36mcompute_nb_errors_aux\u001b[0;34m(model, data_input, data_target, batch)\u001b[0m\n\u001b[1;32m      4\u001b[0m \u001b[0;34m\u001b[0m\u001b[0m\n\u001b[1;32m      5\u001b[0m     \u001b[0;32mfor\u001b[0m \u001b[0mb\u001b[0m \u001b[0;32min\u001b[0m \u001b[0mrange\u001b[0m\u001b[0;34m(\u001b[0m\u001b[0;36m0\u001b[0m\u001b[0;34m,\u001b[0m \u001b[0mdata_input\u001b[0m\u001b[0;34m.\u001b[0m\u001b[0msize\u001b[0m\u001b[0;34m(\u001b[0m\u001b[0;36m0\u001b[0m\u001b[0;34m)\u001b[0m\u001b[0;34m,\u001b[0m \u001b[0mbatch\u001b[0m\u001b[0;34m)\u001b[0m\u001b[0;34m:\u001b[0m\u001b[0;34m\u001b[0m\u001b[0;34m\u001b[0m\u001b[0m\n\u001b[0;32m----> 6\u001b[0;31m         \u001b[0moutput\u001b[0m\u001b[0;34m,\u001b[0m\u001b[0m_\u001b[0m\u001b[0;34m,\u001b[0m\u001b[0m_\u001b[0m \u001b[0;34m=\u001b[0m \u001b[0mmodel\u001b[0m\u001b[0;34m(\u001b[0m\u001b[0mdata_input\u001b[0m\u001b[0;34m.\u001b[0m\u001b[0mnarrow\u001b[0m\u001b[0;34m(\u001b[0m\u001b[0;36m0\u001b[0m\u001b[0;34m,\u001b[0m \u001b[0mb\u001b[0m\u001b[0;34m,\u001b[0m \u001b[0mbatch\u001b[0m\u001b[0;34m)\u001b[0m\u001b[0;34m)\u001b[0m\u001b[0;34m\u001b[0m\u001b[0;34m\u001b[0m\u001b[0m\n\u001b[0m\u001b[1;32m      7\u001b[0m         \u001b[0m_\u001b[0m\u001b[0;34m,\u001b[0m \u001b[0mpredicted_classes\u001b[0m \u001b[0;34m=\u001b[0m \u001b[0mtorch\u001b[0m\u001b[0;34m.\u001b[0m\u001b[0mmax\u001b[0m\u001b[0;34m(\u001b[0m\u001b[0moutput\u001b[0m\u001b[0;34m,\u001b[0m \u001b[0;36m1\u001b[0m\u001b[0;34m)\u001b[0m\u001b[0;34m\u001b[0m\u001b[0;34m\u001b[0m\u001b[0m\n\u001b[1;32m      8\u001b[0m         \u001b[0;32mfor\u001b[0m \u001b[0mk\u001b[0m \u001b[0;32min\u001b[0m \u001b[0mrange\u001b[0m\u001b[0;34m(\u001b[0m\u001b[0mbatch\u001b[0m\u001b[0;34m)\u001b[0m\u001b[0;34m:\u001b[0m\u001b[0;34m\u001b[0m\u001b[0;34m\u001b[0m\u001b[0m\n",
      "\u001b[0;31mValueError\u001b[0m: not enough values to unpack (expected 3, got 2)"
     ]
    }
   ],
   "source": [
    "epochs = 100\n",
    "losses = torch.zeros((3, epochs))\n",
    "model = Net()\n",
    "for e in range(epochs):\n",
    "    training_aux(train_input, train_target, train_classes, model , 100, 0.05)\n",
    "    print(compute_nb_errors_aux(model, train_input,train_target, 100), \" \",compute_nb_errors_aux(model, test_input,test_target, 100))\n",
    "\n"
   ]
  },
  {
   "cell_type": "code",
   "execution_count": 57,
   "metadata": {},
   "outputs": [
    {
     "name": "stdout",
     "output_type": "stream",
     "text": [
      "ResNet(\n",
      "  (conv1): Conv2d(2, 16, kernel_size=(3, 3), stride=(1, 1), padding=(1, 1))\n",
      "  (bn1): BatchNorm2d(16, eps=1e-05, momentum=0.1, affine=True, track_running_stats=True)\n",
      "  (drop1): Dropout2d(p=0.5, inplace=False)\n",
      "  (layer1): Sequential(\n",
      "    (0): ResBlock(\n",
      "      (conv1): Conv2d(16, 16, kernel_size=(3, 3), stride=(1, 1), padding=(1, 1))\n",
      "      (bn1): BatchNorm2d(16, eps=1e-05, momentum=0.1, affine=True, track_running_stats=True)\n",
      "      (conv2): Conv2d(16, 16, kernel_size=(3, 3), stride=(1, 1), padding=(1, 1))\n",
      "      (bn2): BatchNorm2d(16, eps=1e-05, momentum=0.1, affine=True, track_running_stats=True)\n",
      "      (dim_change): Sequential(\n",
      "        (0): Conv2d(16, 16, kernel_size=(3, 3), stride=(1, 1), padding=(1, 1))\n",
      "        (1): BatchNorm2d(16, eps=1e-05, momentum=0.1, affine=True, track_running_stats=True)\n",
      "      )\n",
      "    )\n",
      "    (1): ResBlock(\n",
      "      (conv1): Conv2d(16, 16, kernel_size=(3, 3), stride=(1, 1), padding=(1, 1))\n",
      "      (bn1): BatchNorm2d(16, eps=1e-05, momentum=0.1, affine=True, track_running_stats=True)\n",
      "      (conv2): Conv2d(16, 16, kernel_size=(3, 3), stride=(1, 1), padding=(1, 1))\n",
      "      (bn2): BatchNorm2d(16, eps=1e-05, momentum=0.1, affine=True, track_running_stats=True)\n",
      "    )\n",
      "  )\n",
      "  (layer2): Sequential(\n",
      "    (0): ResBlock(\n",
      "      (conv1): Conv2d(16, 32, kernel_size=(3, 3), stride=(2, 2), padding=(1, 1))\n",
      "      (bn1): BatchNorm2d(32, eps=1e-05, momentum=0.1, affine=True, track_running_stats=True)\n",
      "      (conv2): Conv2d(32, 32, kernel_size=(3, 3), stride=(1, 1), padding=(1, 1))\n",
      "      (bn2): BatchNorm2d(32, eps=1e-05, momentum=0.1, affine=True, track_running_stats=True)\n",
      "      (dim_change): Sequential(\n",
      "        (0): Conv2d(16, 32, kernel_size=(3, 3), stride=(2, 2), padding=(1, 1))\n",
      "        (1): BatchNorm2d(32, eps=1e-05, momentum=0.1, affine=True, track_running_stats=True)\n",
      "      )\n",
      "    )\n",
      "    (1): ResBlock(\n",
      "      (conv1): Conv2d(32, 32, kernel_size=(3, 3), stride=(1, 1), padding=(1, 1))\n",
      "      (bn1): BatchNorm2d(32, eps=1e-05, momentum=0.1, affine=True, track_running_stats=True)\n",
      "      (conv2): Conv2d(32, 32, kernel_size=(3, 3), stride=(1, 1), padding=(1, 1))\n",
      "      (bn2): BatchNorm2d(32, eps=1e-05, momentum=0.1, affine=True, track_running_stats=True)\n",
      "    )\n",
      "  )\n",
      "  (avg_pool): AvgPool2d(kernel_size=7, stride=7, padding=0)\n",
      "  (drop2): Dropout2d(p=0.5, inplace=False)\n",
      "  (fc1): Linear(in_features=32, out_features=100, bias=True)\n",
      "  (out1): Linear(in_features=100, out_features=20, bias=True)\n",
      "  (drop3): Dropout2d(p=0.5, inplace=False)\n",
      "  (fc2): Linear(in_features=100, out_features=100, bias=True)\n",
      "  (out2): Linear(in_features=100, out_features=2, bias=True)\n",
      ")\n"
     ]
    }
   ],
   "source": [
    "epochs = 600\n",
    "losses = torch.zeros((3, epochs))\n",
    "\n",
    "net_args = {\n",
    "    \"block\": ResBlock,\n",
    "    \"layers\": [2, 2, 2, 2]\n",
    "}\n",
    "model = ResNet(**net_args)\n",
    "print(model)\n"
   ]
  },
  {
   "cell_type": "code",
   "execution_count": null,
   "metadata": {},
   "outputs": [
    {
     "name": "stdout",
     "output_type": "stream",
     "text": [
      "14   257\n",
      "16   218\n",
      "6   253\n",
      "18   239\n",
      "9   239\n",
      "7   267\n",
      "13   242\n",
      "12   252\n",
      "13   245\n",
      "13   265\n",
      "10   231\n",
      "15   256\n",
      "10   254\n",
      "11   265\n",
      "7   247\n",
      "9   264\n",
      "18   245\n",
      "11   272\n",
      "13   255\n",
      "10   251\n",
      "15   232\n",
      "13   232\n",
      "11   255\n",
      "4   233\n",
      "12   252\n",
      "17   248\n",
      "10   247\n",
      "13   240\n",
      "7   258\n",
      "10   233\n",
      "19   248\n",
      "9   240\n",
      "11   223\n",
      "15   247\n",
      "18   250\n",
      "11   243\n",
      "5   246\n",
      "7   252\n",
      "19   259\n",
      "15   251\n",
      "19   243\n",
      "14   252\n",
      "7   248\n",
      "12   234\n",
      "18   255\n",
      "15   262\n",
      "9   242\n",
      "11   245\n",
      "10   249\n"
     ]
    }
   ],
   "source": [
    "for e in range(epochs):\n",
    "    model.train\n",
    "    training_aux(train_input, train_target, train_classes, model , 100, 0.04)\n",
    "    model.eval\n",
    "    print(compute_nb_errors_aux(model, train_input,train_target, 100), \" \",compute_nb_errors_aux(model, test_input,test_target, 100))\n",
    "\n",
    "\n"
   ]
  },
  {
   "cell_type": "code",
   "execution_count": null,
   "metadata": {},
   "outputs": [],
   "source": []
  }
 ],
 "metadata": {
  "kernelspec": {
   "display_name": "Python 3",
   "language": "python",
   "name": "python3"
  },
  "language_info": {
   "codemirror_mode": {
    "name": "ipython",
    "version": 3
   },
   "file_extension": ".py",
   "mimetype": "text/x-python",
   "name": "python",
   "nbconvert_exporter": "python",
   "pygments_lexer": "ipython3",
   "version": "3.7.4"
  }
 },
 "nbformat": 4,
 "nbformat_minor": 2
}
