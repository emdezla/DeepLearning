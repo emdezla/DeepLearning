{
  "nbformat": 4,
  "nbformat_minor": 0,
  "metadata": {
    "colab": {
      "name": "merged_files",
      "provenance": [],
      "collapsed_sections": []
    },
    "kernelspec": {
      "name": "python3",
      "display_name": "Python 3"
    },
    "accelerator": "GPU",
    "widgets": {
      "application/vnd.jupyter.widget-state+json": {
        "e34d9f45b3aa429fb096bc3a6bbfbe7c": {
          "model_module": "@jupyter-widgets/controls",
          "model_name": "HBoxModel",
          "state": {
            "_view_name": "HBoxView",
            "_dom_classes": [],
            "_model_name": "HBoxModel",
            "_view_module": "@jupyter-widgets/controls",
            "_model_module_version": "1.5.0",
            "_view_count": null,
            "_view_module_version": "1.5.0",
            "box_style": "",
            "layout": "IPY_MODEL_b0dcb6b57cdf4b4c8ebf395ed6996be1",
            "_model_module": "@jupyter-widgets/controls",
            "children": [
              "IPY_MODEL_466269aff23e42818672a78b4ada9f7a",
              "IPY_MODEL_ad43f7e872c44be7be8cd479e204a44d"
            ]
          }
        },
        "b0dcb6b57cdf4b4c8ebf395ed6996be1": {
          "model_module": "@jupyter-widgets/base",
          "model_name": "LayoutModel",
          "state": {
            "_view_name": "LayoutView",
            "grid_template_rows": null,
            "right": null,
            "justify_content": null,
            "_view_module": "@jupyter-widgets/base",
            "overflow": null,
            "_model_module_version": "1.2.0",
            "_view_count": null,
            "flex_flow": null,
            "width": null,
            "min_width": null,
            "border": null,
            "align_items": null,
            "bottom": null,
            "_model_module": "@jupyter-widgets/base",
            "top": null,
            "grid_column": null,
            "overflow_y": null,
            "overflow_x": null,
            "grid_auto_flow": null,
            "grid_area": null,
            "grid_template_columns": null,
            "flex": null,
            "_model_name": "LayoutModel",
            "justify_items": null,
            "grid_row": null,
            "max_height": null,
            "align_content": null,
            "visibility": null,
            "align_self": null,
            "height": null,
            "min_height": null,
            "padding": null,
            "grid_auto_rows": null,
            "grid_gap": null,
            "max_width": null,
            "order": null,
            "_view_module_version": "1.2.0",
            "grid_template_areas": null,
            "object_position": null,
            "object_fit": null,
            "grid_auto_columns": null,
            "margin": null,
            "display": null,
            "left": null
          }
        },
        "466269aff23e42818672a78b4ada9f7a": {
          "model_module": "@jupyter-widgets/controls",
          "model_name": "FloatProgressModel",
          "state": {
            "_view_name": "ProgressView",
            "style": "IPY_MODEL_decd36b8085948798c9fc650faf257ef",
            "_dom_classes": [],
            "description": "",
            "_model_name": "FloatProgressModel",
            "bar_style": "success",
            "max": 1,
            "_view_module": "@jupyter-widgets/controls",
            "_model_module_version": "1.5.0",
            "value": 1,
            "_view_count": null,
            "_view_module_version": "1.5.0",
            "orientation": "horizontal",
            "min": 0,
            "description_tooltip": null,
            "_model_module": "@jupyter-widgets/controls",
            "layout": "IPY_MODEL_286122c827e84718a52d24ebb1f3da76"
          }
        },
        "ad43f7e872c44be7be8cd479e204a44d": {
          "model_module": "@jupyter-widgets/controls",
          "model_name": "HTMLModel",
          "state": {
            "_view_name": "HTMLView",
            "style": "IPY_MODEL_61bd9c80ac2a4e119b76bf88b93c4de2",
            "_dom_classes": [],
            "description": "",
            "_model_name": "HTMLModel",
            "placeholder": "​",
            "_view_module": "@jupyter-widgets/controls",
            "_model_module_version": "1.5.0",
            "value": " 9920512/? [00:03&lt;00:00, 2679956.72it/s]",
            "_view_count": null,
            "_view_module_version": "1.5.0",
            "description_tooltip": null,
            "_model_module": "@jupyter-widgets/controls",
            "layout": "IPY_MODEL_586a0be5aaf34c9b9efb91ed1dbb1991"
          }
        },
        "decd36b8085948798c9fc650faf257ef": {
          "model_module": "@jupyter-widgets/controls",
          "model_name": "ProgressStyleModel",
          "state": {
            "_view_name": "StyleView",
            "_model_name": "ProgressStyleModel",
            "description_width": "initial",
            "_view_module": "@jupyter-widgets/base",
            "_model_module_version": "1.5.0",
            "_view_count": null,
            "_view_module_version": "1.2.0",
            "bar_color": null,
            "_model_module": "@jupyter-widgets/controls"
          }
        },
        "286122c827e84718a52d24ebb1f3da76": {
          "model_module": "@jupyter-widgets/base",
          "model_name": "LayoutModel",
          "state": {
            "_view_name": "LayoutView",
            "grid_template_rows": null,
            "right": null,
            "justify_content": null,
            "_view_module": "@jupyter-widgets/base",
            "overflow": null,
            "_model_module_version": "1.2.0",
            "_view_count": null,
            "flex_flow": null,
            "width": null,
            "min_width": null,
            "border": null,
            "align_items": null,
            "bottom": null,
            "_model_module": "@jupyter-widgets/base",
            "top": null,
            "grid_column": null,
            "overflow_y": null,
            "overflow_x": null,
            "grid_auto_flow": null,
            "grid_area": null,
            "grid_template_columns": null,
            "flex": null,
            "_model_name": "LayoutModel",
            "justify_items": null,
            "grid_row": null,
            "max_height": null,
            "align_content": null,
            "visibility": null,
            "align_self": null,
            "height": null,
            "min_height": null,
            "padding": null,
            "grid_auto_rows": null,
            "grid_gap": null,
            "max_width": null,
            "order": null,
            "_view_module_version": "1.2.0",
            "grid_template_areas": null,
            "object_position": null,
            "object_fit": null,
            "grid_auto_columns": null,
            "margin": null,
            "display": null,
            "left": null
          }
        },
        "61bd9c80ac2a4e119b76bf88b93c4de2": {
          "model_module": "@jupyter-widgets/controls",
          "model_name": "DescriptionStyleModel",
          "state": {
            "_view_name": "StyleView",
            "_model_name": "DescriptionStyleModel",
            "description_width": "",
            "_view_module": "@jupyter-widgets/base",
            "_model_module_version": "1.5.0",
            "_view_count": null,
            "_view_module_version": "1.2.0",
            "_model_module": "@jupyter-widgets/controls"
          }
        },
        "586a0be5aaf34c9b9efb91ed1dbb1991": {
          "model_module": "@jupyter-widgets/base",
          "model_name": "LayoutModel",
          "state": {
            "_view_name": "LayoutView",
            "grid_template_rows": null,
            "right": null,
            "justify_content": null,
            "_view_module": "@jupyter-widgets/base",
            "overflow": null,
            "_model_module_version": "1.2.0",
            "_view_count": null,
            "flex_flow": null,
            "width": null,
            "min_width": null,
            "border": null,
            "align_items": null,
            "bottom": null,
            "_model_module": "@jupyter-widgets/base",
            "top": null,
            "grid_column": null,
            "overflow_y": null,
            "overflow_x": null,
            "grid_auto_flow": null,
            "grid_area": null,
            "grid_template_columns": null,
            "flex": null,
            "_model_name": "LayoutModel",
            "justify_items": null,
            "grid_row": null,
            "max_height": null,
            "align_content": null,
            "visibility": null,
            "align_self": null,
            "height": null,
            "min_height": null,
            "padding": null,
            "grid_auto_rows": null,
            "grid_gap": null,
            "max_width": null,
            "order": null,
            "_view_module_version": "1.2.0",
            "grid_template_areas": null,
            "object_position": null,
            "object_fit": null,
            "grid_auto_columns": null,
            "margin": null,
            "display": null,
            "left": null
          }
        },
        "d0a0f99bfe2547b39b0c7a05290c2cae": {
          "model_module": "@jupyter-widgets/controls",
          "model_name": "HBoxModel",
          "state": {
            "_view_name": "HBoxView",
            "_dom_classes": [],
            "_model_name": "HBoxModel",
            "_view_module": "@jupyter-widgets/controls",
            "_model_module_version": "1.5.0",
            "_view_count": null,
            "_view_module_version": "1.5.0",
            "box_style": "",
            "layout": "IPY_MODEL_53f8ed3438fb4e7a9046b88d976136c5",
            "_model_module": "@jupyter-widgets/controls",
            "children": [
              "IPY_MODEL_a84409e8e3e44c64a73f5d8c8193028e",
              "IPY_MODEL_8ea14b76092e48979418997cde3d6c83"
            ]
          }
        },
        "53f8ed3438fb4e7a9046b88d976136c5": {
          "model_module": "@jupyter-widgets/base",
          "model_name": "LayoutModel",
          "state": {
            "_view_name": "LayoutView",
            "grid_template_rows": null,
            "right": null,
            "justify_content": null,
            "_view_module": "@jupyter-widgets/base",
            "overflow": null,
            "_model_module_version": "1.2.0",
            "_view_count": null,
            "flex_flow": null,
            "width": null,
            "min_width": null,
            "border": null,
            "align_items": null,
            "bottom": null,
            "_model_module": "@jupyter-widgets/base",
            "top": null,
            "grid_column": null,
            "overflow_y": null,
            "overflow_x": null,
            "grid_auto_flow": null,
            "grid_area": null,
            "grid_template_columns": null,
            "flex": null,
            "_model_name": "LayoutModel",
            "justify_items": null,
            "grid_row": null,
            "max_height": null,
            "align_content": null,
            "visibility": null,
            "align_self": null,
            "height": null,
            "min_height": null,
            "padding": null,
            "grid_auto_rows": null,
            "grid_gap": null,
            "max_width": null,
            "order": null,
            "_view_module_version": "1.2.0",
            "grid_template_areas": null,
            "object_position": null,
            "object_fit": null,
            "grid_auto_columns": null,
            "margin": null,
            "display": null,
            "left": null
          }
        },
        "a84409e8e3e44c64a73f5d8c8193028e": {
          "model_module": "@jupyter-widgets/controls",
          "model_name": "FloatProgressModel",
          "state": {
            "_view_name": "ProgressView",
            "style": "IPY_MODEL_498f1659907b48c789c05ac8b6de9a7b",
            "_dom_classes": [],
            "description": "",
            "_model_name": "FloatProgressModel",
            "bar_style": "success",
            "max": 1,
            "_view_module": "@jupyter-widgets/controls",
            "_model_module_version": "1.5.0",
            "value": 1,
            "_view_count": null,
            "_view_module_version": "1.5.0",
            "orientation": "horizontal",
            "min": 0,
            "description_tooltip": null,
            "_model_module": "@jupyter-widgets/controls",
            "layout": "IPY_MODEL_54f1f3f201a7428cb01c6737f7cd3089"
          }
        },
        "8ea14b76092e48979418997cde3d6c83": {
          "model_module": "@jupyter-widgets/controls",
          "model_name": "HTMLModel",
          "state": {
            "_view_name": "HTMLView",
            "style": "IPY_MODEL_dd670907f4ad43c0b1c6c70a0ade76e2",
            "_dom_classes": [],
            "description": "",
            "_model_name": "HTMLModel",
            "placeholder": "​",
            "_view_module": "@jupyter-widgets/controls",
            "_model_module_version": "1.5.0",
            "value": " 32768/? [00:01&lt;00:00, 18508.72it/s]",
            "_view_count": null,
            "_view_module_version": "1.5.0",
            "description_tooltip": null,
            "_model_module": "@jupyter-widgets/controls",
            "layout": "IPY_MODEL_55ea0d26ca3a451b8ea0927bdbc5834f"
          }
        },
        "498f1659907b48c789c05ac8b6de9a7b": {
          "model_module": "@jupyter-widgets/controls",
          "model_name": "ProgressStyleModel",
          "state": {
            "_view_name": "StyleView",
            "_model_name": "ProgressStyleModel",
            "description_width": "initial",
            "_view_module": "@jupyter-widgets/base",
            "_model_module_version": "1.5.0",
            "_view_count": null,
            "_view_module_version": "1.2.0",
            "bar_color": null,
            "_model_module": "@jupyter-widgets/controls"
          }
        },
        "54f1f3f201a7428cb01c6737f7cd3089": {
          "model_module": "@jupyter-widgets/base",
          "model_name": "LayoutModel",
          "state": {
            "_view_name": "LayoutView",
            "grid_template_rows": null,
            "right": null,
            "justify_content": null,
            "_view_module": "@jupyter-widgets/base",
            "overflow": null,
            "_model_module_version": "1.2.0",
            "_view_count": null,
            "flex_flow": null,
            "width": null,
            "min_width": null,
            "border": null,
            "align_items": null,
            "bottom": null,
            "_model_module": "@jupyter-widgets/base",
            "top": null,
            "grid_column": null,
            "overflow_y": null,
            "overflow_x": null,
            "grid_auto_flow": null,
            "grid_area": null,
            "grid_template_columns": null,
            "flex": null,
            "_model_name": "LayoutModel",
            "justify_items": null,
            "grid_row": null,
            "max_height": null,
            "align_content": null,
            "visibility": null,
            "align_self": null,
            "height": null,
            "min_height": null,
            "padding": null,
            "grid_auto_rows": null,
            "grid_gap": null,
            "max_width": null,
            "order": null,
            "_view_module_version": "1.2.0",
            "grid_template_areas": null,
            "object_position": null,
            "object_fit": null,
            "grid_auto_columns": null,
            "margin": null,
            "display": null,
            "left": null
          }
        },
        "dd670907f4ad43c0b1c6c70a0ade76e2": {
          "model_module": "@jupyter-widgets/controls",
          "model_name": "DescriptionStyleModel",
          "state": {
            "_view_name": "StyleView",
            "_model_name": "DescriptionStyleModel",
            "description_width": "",
            "_view_module": "@jupyter-widgets/base",
            "_model_module_version": "1.5.0",
            "_view_count": null,
            "_view_module_version": "1.2.0",
            "_model_module": "@jupyter-widgets/controls"
          }
        },
        "55ea0d26ca3a451b8ea0927bdbc5834f": {
          "model_module": "@jupyter-widgets/base",
          "model_name": "LayoutModel",
          "state": {
            "_view_name": "LayoutView",
            "grid_template_rows": null,
            "right": null,
            "justify_content": null,
            "_view_module": "@jupyter-widgets/base",
            "overflow": null,
            "_model_module_version": "1.2.0",
            "_view_count": null,
            "flex_flow": null,
            "width": null,
            "min_width": null,
            "border": null,
            "align_items": null,
            "bottom": null,
            "_model_module": "@jupyter-widgets/base",
            "top": null,
            "grid_column": null,
            "overflow_y": null,
            "overflow_x": null,
            "grid_auto_flow": null,
            "grid_area": null,
            "grid_template_columns": null,
            "flex": null,
            "_model_name": "LayoutModel",
            "justify_items": null,
            "grid_row": null,
            "max_height": null,
            "align_content": null,
            "visibility": null,
            "align_self": null,
            "height": null,
            "min_height": null,
            "padding": null,
            "grid_auto_rows": null,
            "grid_gap": null,
            "max_width": null,
            "order": null,
            "_view_module_version": "1.2.0",
            "grid_template_areas": null,
            "object_position": null,
            "object_fit": null,
            "grid_auto_columns": null,
            "margin": null,
            "display": null,
            "left": null
          }
        },
        "ba4dc9c3680343c6aa21a8b54cedf40b": {
          "model_module": "@jupyter-widgets/controls",
          "model_name": "HBoxModel",
          "state": {
            "_view_name": "HBoxView",
            "_dom_classes": [],
            "_model_name": "HBoxModel",
            "_view_module": "@jupyter-widgets/controls",
            "_model_module_version": "1.5.0",
            "_view_count": null,
            "_view_module_version": "1.5.0",
            "box_style": "",
            "layout": "IPY_MODEL_0f01279cd53e45af966029c2238d263c",
            "_model_module": "@jupyter-widgets/controls",
            "children": [
              "IPY_MODEL_488d813957d34ee9931fa56d2099fd1d",
              "IPY_MODEL_d296c888abcc400b93efd5794ec2484b"
            ]
          }
        },
        "0f01279cd53e45af966029c2238d263c": {
          "model_module": "@jupyter-widgets/base",
          "model_name": "LayoutModel",
          "state": {
            "_view_name": "LayoutView",
            "grid_template_rows": null,
            "right": null,
            "justify_content": null,
            "_view_module": "@jupyter-widgets/base",
            "overflow": null,
            "_model_module_version": "1.2.0",
            "_view_count": null,
            "flex_flow": null,
            "width": null,
            "min_width": null,
            "border": null,
            "align_items": null,
            "bottom": null,
            "_model_module": "@jupyter-widgets/base",
            "top": null,
            "grid_column": null,
            "overflow_y": null,
            "overflow_x": null,
            "grid_auto_flow": null,
            "grid_area": null,
            "grid_template_columns": null,
            "flex": null,
            "_model_name": "LayoutModel",
            "justify_items": null,
            "grid_row": null,
            "max_height": null,
            "align_content": null,
            "visibility": null,
            "align_self": null,
            "height": null,
            "min_height": null,
            "padding": null,
            "grid_auto_rows": null,
            "grid_gap": null,
            "max_width": null,
            "order": null,
            "_view_module_version": "1.2.0",
            "grid_template_areas": null,
            "object_position": null,
            "object_fit": null,
            "grid_auto_columns": null,
            "margin": null,
            "display": null,
            "left": null
          }
        },
        "488d813957d34ee9931fa56d2099fd1d": {
          "model_module": "@jupyter-widgets/controls",
          "model_name": "FloatProgressModel",
          "state": {
            "_view_name": "ProgressView",
            "style": "IPY_MODEL_8ee8ada46d834b5ebe004009aac26e78",
            "_dom_classes": [],
            "description": "",
            "_model_name": "FloatProgressModel",
            "bar_style": "success",
            "max": 1,
            "_view_module": "@jupyter-widgets/controls",
            "_model_module_version": "1.5.0",
            "value": 1,
            "_view_count": null,
            "_view_module_version": "1.5.0",
            "orientation": "horizontal",
            "min": 0,
            "description_tooltip": null,
            "_model_module": "@jupyter-widgets/controls",
            "layout": "IPY_MODEL_bbd3f258650b43bcb5a51286bb895fd2"
          }
        },
        "d296c888abcc400b93efd5794ec2484b": {
          "model_module": "@jupyter-widgets/controls",
          "model_name": "HTMLModel",
          "state": {
            "_view_name": "HTMLView",
            "style": "IPY_MODEL_72863fd753934bd9bfae799ddb068322",
            "_dom_classes": [],
            "description": "",
            "_model_name": "HTMLModel",
            "placeholder": "​",
            "_view_module": "@jupyter-widgets/controls",
            "_model_module_version": "1.5.0",
            "value": " 1654784/? [00:01&lt;00:00, 1102723.28it/s]",
            "_view_count": null,
            "_view_module_version": "1.5.0",
            "description_tooltip": null,
            "_model_module": "@jupyter-widgets/controls",
            "layout": "IPY_MODEL_7b86b965120b4f12a2a77cb037928199"
          }
        },
        "8ee8ada46d834b5ebe004009aac26e78": {
          "model_module": "@jupyter-widgets/controls",
          "model_name": "ProgressStyleModel",
          "state": {
            "_view_name": "StyleView",
            "_model_name": "ProgressStyleModel",
            "description_width": "initial",
            "_view_module": "@jupyter-widgets/base",
            "_model_module_version": "1.5.0",
            "_view_count": null,
            "_view_module_version": "1.2.0",
            "bar_color": null,
            "_model_module": "@jupyter-widgets/controls"
          }
        },
        "bbd3f258650b43bcb5a51286bb895fd2": {
          "model_module": "@jupyter-widgets/base",
          "model_name": "LayoutModel",
          "state": {
            "_view_name": "LayoutView",
            "grid_template_rows": null,
            "right": null,
            "justify_content": null,
            "_view_module": "@jupyter-widgets/base",
            "overflow": null,
            "_model_module_version": "1.2.0",
            "_view_count": null,
            "flex_flow": null,
            "width": null,
            "min_width": null,
            "border": null,
            "align_items": null,
            "bottom": null,
            "_model_module": "@jupyter-widgets/base",
            "top": null,
            "grid_column": null,
            "overflow_y": null,
            "overflow_x": null,
            "grid_auto_flow": null,
            "grid_area": null,
            "grid_template_columns": null,
            "flex": null,
            "_model_name": "LayoutModel",
            "justify_items": null,
            "grid_row": null,
            "max_height": null,
            "align_content": null,
            "visibility": null,
            "align_self": null,
            "height": null,
            "min_height": null,
            "padding": null,
            "grid_auto_rows": null,
            "grid_gap": null,
            "max_width": null,
            "order": null,
            "_view_module_version": "1.2.0",
            "grid_template_areas": null,
            "object_position": null,
            "object_fit": null,
            "grid_auto_columns": null,
            "margin": null,
            "display": null,
            "left": null
          }
        },
        "72863fd753934bd9bfae799ddb068322": {
          "model_module": "@jupyter-widgets/controls",
          "model_name": "DescriptionStyleModel",
          "state": {
            "_view_name": "StyleView",
            "_model_name": "DescriptionStyleModel",
            "description_width": "",
            "_view_module": "@jupyter-widgets/base",
            "_model_module_version": "1.5.0",
            "_view_count": null,
            "_view_module_version": "1.2.0",
            "_model_module": "@jupyter-widgets/controls"
          }
        },
        "7b86b965120b4f12a2a77cb037928199": {
          "model_module": "@jupyter-widgets/base",
          "model_name": "LayoutModel",
          "state": {
            "_view_name": "LayoutView",
            "grid_template_rows": null,
            "right": null,
            "justify_content": null,
            "_view_module": "@jupyter-widgets/base",
            "overflow": null,
            "_model_module_version": "1.2.0",
            "_view_count": null,
            "flex_flow": null,
            "width": null,
            "min_width": null,
            "border": null,
            "align_items": null,
            "bottom": null,
            "_model_module": "@jupyter-widgets/base",
            "top": null,
            "grid_column": null,
            "overflow_y": null,
            "overflow_x": null,
            "grid_auto_flow": null,
            "grid_area": null,
            "grid_template_columns": null,
            "flex": null,
            "_model_name": "LayoutModel",
            "justify_items": null,
            "grid_row": null,
            "max_height": null,
            "align_content": null,
            "visibility": null,
            "align_self": null,
            "height": null,
            "min_height": null,
            "padding": null,
            "grid_auto_rows": null,
            "grid_gap": null,
            "max_width": null,
            "order": null,
            "_view_module_version": "1.2.0",
            "grid_template_areas": null,
            "object_position": null,
            "object_fit": null,
            "grid_auto_columns": null,
            "margin": null,
            "display": null,
            "left": null
          }
        },
        "43652658eedf4fa88ab22abde5fe9cb5": {
          "model_module": "@jupyter-widgets/controls",
          "model_name": "HBoxModel",
          "state": {
            "_view_name": "HBoxView",
            "_dom_classes": [],
            "_model_name": "HBoxModel",
            "_view_module": "@jupyter-widgets/controls",
            "_model_module_version": "1.5.0",
            "_view_count": null,
            "_view_module_version": "1.5.0",
            "box_style": "",
            "layout": "IPY_MODEL_a9ecf0c9356a4903b123f35b3477a6eb",
            "_model_module": "@jupyter-widgets/controls",
            "children": [
              "IPY_MODEL_e032d0a7ebd841d5a6e64dc4066d047a",
              "IPY_MODEL_7a52111e1819456e99b4ee0ea0bb6f34"
            ]
          }
        },
        "a9ecf0c9356a4903b123f35b3477a6eb": {
          "model_module": "@jupyter-widgets/base",
          "model_name": "LayoutModel",
          "state": {
            "_view_name": "LayoutView",
            "grid_template_rows": null,
            "right": null,
            "justify_content": null,
            "_view_module": "@jupyter-widgets/base",
            "overflow": null,
            "_model_module_version": "1.2.0",
            "_view_count": null,
            "flex_flow": null,
            "width": null,
            "min_width": null,
            "border": null,
            "align_items": null,
            "bottom": null,
            "_model_module": "@jupyter-widgets/base",
            "top": null,
            "grid_column": null,
            "overflow_y": null,
            "overflow_x": null,
            "grid_auto_flow": null,
            "grid_area": null,
            "grid_template_columns": null,
            "flex": null,
            "_model_name": "LayoutModel",
            "justify_items": null,
            "grid_row": null,
            "max_height": null,
            "align_content": null,
            "visibility": null,
            "align_self": null,
            "height": null,
            "min_height": null,
            "padding": null,
            "grid_auto_rows": null,
            "grid_gap": null,
            "max_width": null,
            "order": null,
            "_view_module_version": "1.2.0",
            "grid_template_areas": null,
            "object_position": null,
            "object_fit": null,
            "grid_auto_columns": null,
            "margin": null,
            "display": null,
            "left": null
          }
        },
        "e032d0a7ebd841d5a6e64dc4066d047a": {
          "model_module": "@jupyter-widgets/controls",
          "model_name": "FloatProgressModel",
          "state": {
            "_view_name": "ProgressView",
            "style": "IPY_MODEL_cae7167d22994789951137d05afba4be",
            "_dom_classes": [],
            "description": "",
            "_model_name": "FloatProgressModel",
            "bar_style": "success",
            "max": 1,
            "_view_module": "@jupyter-widgets/controls",
            "_model_module_version": "1.5.0",
            "value": 1,
            "_view_count": null,
            "_view_module_version": "1.5.0",
            "orientation": "horizontal",
            "min": 0,
            "description_tooltip": null,
            "_model_module": "@jupyter-widgets/controls",
            "layout": "IPY_MODEL_44f7a1be86334e62ad6b9edd5df2bc2a"
          }
        },
        "7a52111e1819456e99b4ee0ea0bb6f34": {
          "model_module": "@jupyter-widgets/controls",
          "model_name": "HTMLModel",
          "state": {
            "_view_name": "HTMLView",
            "style": "IPY_MODEL_6e80a2f1ce1c405092f7fba09b1f63d5",
            "_dom_classes": [],
            "description": "",
            "_model_name": "HTMLModel",
            "placeholder": "​",
            "_view_module": "@jupyter-widgets/controls",
            "_model_module_version": "1.5.0",
            "value": " 8192/? [00:00&lt;00:00, 10773.49it/s]",
            "_view_count": null,
            "_view_module_version": "1.5.0",
            "description_tooltip": null,
            "_model_module": "@jupyter-widgets/controls",
            "layout": "IPY_MODEL_8794e7eb00e04b119eb4fc912ff5b7a9"
          }
        },
        "cae7167d22994789951137d05afba4be": {
          "model_module": "@jupyter-widgets/controls",
          "model_name": "ProgressStyleModel",
          "state": {
            "_view_name": "StyleView",
            "_model_name": "ProgressStyleModel",
            "description_width": "initial",
            "_view_module": "@jupyter-widgets/base",
            "_model_module_version": "1.5.0",
            "_view_count": null,
            "_view_module_version": "1.2.0",
            "bar_color": null,
            "_model_module": "@jupyter-widgets/controls"
          }
        },
        "44f7a1be86334e62ad6b9edd5df2bc2a": {
          "model_module": "@jupyter-widgets/base",
          "model_name": "LayoutModel",
          "state": {
            "_view_name": "LayoutView",
            "grid_template_rows": null,
            "right": null,
            "justify_content": null,
            "_view_module": "@jupyter-widgets/base",
            "overflow": null,
            "_model_module_version": "1.2.0",
            "_view_count": null,
            "flex_flow": null,
            "width": null,
            "min_width": null,
            "border": null,
            "align_items": null,
            "bottom": null,
            "_model_module": "@jupyter-widgets/base",
            "top": null,
            "grid_column": null,
            "overflow_y": null,
            "overflow_x": null,
            "grid_auto_flow": null,
            "grid_area": null,
            "grid_template_columns": null,
            "flex": null,
            "_model_name": "LayoutModel",
            "justify_items": null,
            "grid_row": null,
            "max_height": null,
            "align_content": null,
            "visibility": null,
            "align_self": null,
            "height": null,
            "min_height": null,
            "padding": null,
            "grid_auto_rows": null,
            "grid_gap": null,
            "max_width": null,
            "order": null,
            "_view_module_version": "1.2.0",
            "grid_template_areas": null,
            "object_position": null,
            "object_fit": null,
            "grid_auto_columns": null,
            "margin": null,
            "display": null,
            "left": null
          }
        },
        "6e80a2f1ce1c405092f7fba09b1f63d5": {
          "model_module": "@jupyter-widgets/controls",
          "model_name": "DescriptionStyleModel",
          "state": {
            "_view_name": "StyleView",
            "_model_name": "DescriptionStyleModel",
            "description_width": "",
            "_view_module": "@jupyter-widgets/base",
            "_model_module_version": "1.5.0",
            "_view_count": null,
            "_view_module_version": "1.2.0",
            "_model_module": "@jupyter-widgets/controls"
          }
        },
        "8794e7eb00e04b119eb4fc912ff5b7a9": {
          "model_module": "@jupyter-widgets/base",
          "model_name": "LayoutModel",
          "state": {
            "_view_name": "LayoutView",
            "grid_template_rows": null,
            "right": null,
            "justify_content": null,
            "_view_module": "@jupyter-widgets/base",
            "overflow": null,
            "_model_module_version": "1.2.0",
            "_view_count": null,
            "flex_flow": null,
            "width": null,
            "min_width": null,
            "border": null,
            "align_items": null,
            "bottom": null,
            "_model_module": "@jupyter-widgets/base",
            "top": null,
            "grid_column": null,
            "overflow_y": null,
            "overflow_x": null,
            "grid_auto_flow": null,
            "grid_area": null,
            "grid_template_columns": null,
            "flex": null,
            "_model_name": "LayoutModel",
            "justify_items": null,
            "grid_row": null,
            "max_height": null,
            "align_content": null,
            "visibility": null,
            "align_self": null,
            "height": null,
            "min_height": null,
            "padding": null,
            "grid_auto_rows": null,
            "grid_gap": null,
            "max_width": null,
            "order": null,
            "_view_module_version": "1.2.0",
            "grid_template_areas": null,
            "object_position": null,
            "object_fit": null,
            "grid_auto_columns": null,
            "margin": null,
            "display": null,
            "left": null
          }
        }
      }
    }
  },
  "cells": [
    {
      "cell_type": "code",
      "metadata": {
        "id": "_zI901RWuUhy",
        "colab_type": "code",
        "colab": {
          "base_uri": "https://localhost:8080/",
          "height": 124
        },
        "outputId": "a714665b-b023-45f3-db8f-4ce992e43a23"
      },
      "source": [
        "from google.colab import drive\n",
        "drive.mount('/content/gdrive')\n",
        "import sys\n",
        "sys.path.append('/content/gdrive/My Drive/Colab Notebooks')"
      ],
      "execution_count": 1,
      "outputs": [
        {
          "output_type": "stream",
          "text": [
            "Go to this URL in a browser: https://accounts.google.com/o/oauth2/auth?client_id=947318989803-6bn6qk8qdgf4n4g3pfee6491hc0brc4i.apps.googleusercontent.com&redirect_uri=urn%3aietf%3awg%3aoauth%3a2.0%3aoob&response_type=code&scope=email%20https%3a%2f%2fwww.googleapis.com%2fauth%2fdocs.test%20https%3a%2f%2fwww.googleapis.com%2fauth%2fdrive%20https%3a%2f%2fwww.googleapis.com%2fauth%2fdrive.photos.readonly%20https%3a%2f%2fwww.googleapis.com%2fauth%2fpeopleapi.readonly\n",
            "\n",
            "Enter your authorization code:\n",
            "··········\n",
            "Mounted at /content/gdrive\n"
          ],
          "name": "stdout"
        }
      ]
    },
    {
      "cell_type": "code",
      "metadata": {
        "id": "Z7ucl_T5uwun",
        "colab_type": "code",
        "colab": {}
      },
      "source": [
        "import statistics\n",
        "import matplotlib.pyplot as plt\n",
        "import torch\n",
        "import torch.nn as nn\n",
        "import torch.nn.functional as F\n",
        "from itertools import accumulate\n",
        "import dlc_practical_prologue as prologue"
      ],
      "execution_count": 0,
      "outputs": []
    },
    {
      "cell_type": "code",
      "metadata": {
        "id": "cvcNe9-xTyWt",
        "colab_type": "code",
        "colab": {
          "base_uri": "https://localhost:8080/",
          "height": 356,
          "referenced_widgets": [
            "e34d9f45b3aa429fb096bc3a6bbfbe7c",
            "b0dcb6b57cdf4b4c8ebf395ed6996be1",
            "466269aff23e42818672a78b4ada9f7a",
            "ad43f7e872c44be7be8cd479e204a44d",
            "decd36b8085948798c9fc650faf257ef",
            "286122c827e84718a52d24ebb1f3da76",
            "61bd9c80ac2a4e119b76bf88b93c4de2",
            "586a0be5aaf34c9b9efb91ed1dbb1991",
            "d0a0f99bfe2547b39b0c7a05290c2cae",
            "53f8ed3438fb4e7a9046b88d976136c5",
            "a84409e8e3e44c64a73f5d8c8193028e",
            "8ea14b76092e48979418997cde3d6c83",
            "498f1659907b48c789c05ac8b6de9a7b",
            "54f1f3f201a7428cb01c6737f7cd3089",
            "dd670907f4ad43c0b1c6c70a0ade76e2",
            "55ea0d26ca3a451b8ea0927bdbc5834f",
            "ba4dc9c3680343c6aa21a8b54cedf40b",
            "0f01279cd53e45af966029c2238d263c",
            "488d813957d34ee9931fa56d2099fd1d",
            "d296c888abcc400b93efd5794ec2484b",
            "8ee8ada46d834b5ebe004009aac26e78",
            "bbd3f258650b43bcb5a51286bb895fd2",
            "72863fd753934bd9bfae799ddb068322",
            "7b86b965120b4f12a2a77cb037928199",
            "43652658eedf4fa88ab22abde5fe9cb5",
            "a9ecf0c9356a4903b123f35b3477a6eb",
            "e032d0a7ebd841d5a6e64dc4066d047a",
            "7a52111e1819456e99b4ee0ea0bb6f34",
            "cae7167d22994789951137d05afba4be",
            "44f7a1be86334e62ad6b9edd5df2bc2a",
            "6e80a2f1ce1c405092f7fba09b1f63d5",
            "8794e7eb00e04b119eb4fc912ff5b7a9"
          ]
        },
        "outputId": "21f1aaf6-4027-42d6-c707-a5474f6dc0dc"
      },
      "source": [
        "torch.backends.cudnn.deterministic=True\n",
        "torch.manual_seed(0)\n",
        "torch.cuda.manual_seed(0)\n",
        "\n",
        "N = 1000\n",
        "train_input, train_target, train_classes, test_input, test_target, test_classes = prologue.generate_pair_sets(N)\n",
        "device = torch.device(\"cuda:0\" if torch.cuda.is_available() else \"cpu\")"
      ],
      "execution_count": 3,
      "outputs": [
        {
          "output_type": "stream",
          "text": [
            "Downloading http://yann.lecun.com/exdb/mnist/train-images-idx3-ubyte.gz to ./data/mnist/MNIST/raw/train-images-idx3-ubyte.gz\n"
          ],
          "name": "stdout"
        },
        {
          "output_type": "display_data",
          "data": {
            "application/vnd.jupyter.widget-view+json": {
              "model_id": "e34d9f45b3aa429fb096bc3a6bbfbe7c",
              "version_minor": 0,
              "version_major": 2
            },
            "text/plain": [
              "HBox(children=(FloatProgress(value=1.0, bar_style='info', max=1.0), HTML(value='')))"
            ]
          },
          "metadata": {
            "tags": []
          }
        },
        {
          "output_type": "stream",
          "text": [
            "Extracting ./data/mnist/MNIST/raw/train-images-idx3-ubyte.gz to ./data/mnist/MNIST/raw\n",
            "Downloading http://yann.lecun.com/exdb/mnist/train-labels-idx1-ubyte.gz to ./data/mnist/MNIST/raw/train-labels-idx1-ubyte.gz\n"
          ],
          "name": "stdout"
        },
        {
          "output_type": "display_data",
          "data": {
            "application/vnd.jupyter.widget-view+json": {
              "model_id": "d0a0f99bfe2547b39b0c7a05290c2cae",
              "version_minor": 0,
              "version_major": 2
            },
            "text/plain": [
              "HBox(children=(FloatProgress(value=1.0, bar_style='info', max=1.0), HTML(value='')))"
            ]
          },
          "metadata": {
            "tags": []
          }
        },
        {
          "output_type": "stream",
          "text": [
            "Extracting ./data/mnist/MNIST/raw/train-labels-idx1-ubyte.gz to ./data/mnist/MNIST/raw\n",
            "Downloading http://yann.lecun.com/exdb/mnist/t10k-images-idx3-ubyte.gz to ./data/mnist/MNIST/raw/t10k-images-idx3-ubyte.gz\n"
          ],
          "name": "stdout"
        },
        {
          "output_type": "display_data",
          "data": {
            "application/vnd.jupyter.widget-view+json": {
              "model_id": "ba4dc9c3680343c6aa21a8b54cedf40b",
              "version_minor": 0,
              "version_major": 2
            },
            "text/plain": [
              "HBox(children=(FloatProgress(value=1.0, bar_style='info', max=1.0), HTML(value='')))"
            ]
          },
          "metadata": {
            "tags": []
          }
        },
        {
          "output_type": "stream",
          "text": [
            "Extracting ./data/mnist/MNIST/raw/t10k-images-idx3-ubyte.gz to ./data/mnist/MNIST/raw\n",
            "Downloading http://yann.lecun.com/exdb/mnist/t10k-labels-idx1-ubyte.gz to ./data/mnist/MNIST/raw/t10k-labels-idx1-ubyte.gz\n"
          ],
          "name": "stdout"
        },
        {
          "output_type": "display_data",
          "data": {
            "application/vnd.jupyter.widget-view+json": {
              "model_id": "43652658eedf4fa88ab22abde5fe9cb5",
              "version_minor": 0,
              "version_major": 2
            },
            "text/plain": [
              "HBox(children=(FloatProgress(value=1.0, bar_style='info', max=1.0), HTML(value='')))"
            ]
          },
          "metadata": {
            "tags": []
          }
        },
        {
          "output_type": "stream",
          "text": [
            "Extracting ./data/mnist/MNIST/raw/t10k-labels-idx1-ubyte.gz to ./data/mnist/MNIST/raw\n",
            "Processing...\n",
            "Done!\n"
          ],
          "name": "stdout"
        },
        {
          "output_type": "stream",
          "text": [
            "/pytorch/torch/csrc/utils/tensor_numpy.cpp:141: UserWarning: The given NumPy array is not writeable, and PyTorch does not support non-writeable tensors. This means you can write to the underlying (supposedly non-writeable) NumPy array using the tensor. You may want to copy the array to protect its data or make it writeable before converting it to a tensor. This type of warning will be suppressed for the rest of this program.\n"
          ],
          "name": "stderr"
        }
      ]
    },
    {
      "cell_type": "code",
      "metadata": {
        "id": "Zx_nq_Bako4u",
        "colab_type": "code",
        "colab": {
          "base_uri": "https://localhost:8080/",
          "height": 69
        },
        "outputId": "9d13db75-0b10-4b67-f10e-7efa26406cda"
      },
      "source": [
        "#FLATTENING INPUT TO BE USED FOR FULLY CONNECTED NETWORK\n",
        "train_input_first_approach =  torch.zeros(size = (1000,392))\n",
        "test_input_first_approach = torch.zeros(size = (1000,392))\n",
        "\n",
        "for i in range(train_input.size(0)):\n",
        "  \n",
        "    train_input_first_approach[i]  = torch.cat((torch.flatten(train_input[i,0]),torch.flatten(train_input[i,1])),0)\n",
        "    test_input_first_approach[i] = torch.cat((torch.flatten(test_input[i,0]),torch.flatten(test_input[i,1])),0)"
      ],
      "execution_count": 4,
      "outputs": [
        {
          "output_type": "stream",
          "text": [
            "\n",
            "\n",
            "\n"
          ],
          "name": "stdout"
        }
      ]
    },
    {
      "cell_type": "code",
      "metadata": {
        "id": "DU6qDtOJT0OQ",
        "colab_type": "code",
        "colab": {}
      },
      "source": [
        "def k_fold(data, ind, k):\n",
        "    n = len(data)\n",
        "    return data[n * (ind-1)//k:n * ind//k], data[0:n * (ind-1)//k], data[n * ind//k:]"
      ],
      "execution_count": 0,
      "outputs": []
    },
    {
      "cell_type": "code",
      "metadata": {
        "id": "KPnkqEbwT2F5",
        "colab_type": "code",
        "colab": {}
      },
      "source": [
        "\n",
        "\n",
        "\n",
        "\n",
        "##############################First Model#########################################\n",
        "#Test error rate 19%\n",
        "#Convergence 20 epochs\n",
        "\n",
        "class SimpleNet(nn.Module):\n",
        "    def __init__(self):\n",
        "        super(SimpleNet, self).__init__()\n",
        "        \n",
        "        self.conv1 = nn.Conv2d(2, 32, kernel_size = 3)\n",
        "        self.bn1 = nn.BatchNorm2d(32)\n",
        "        self.conv2 = nn.Conv2d(32, 64, kernel_size = 3)\n",
        "        self.bn2 = nn.BatchNorm2d(64)\n",
        "        self.conv3 = nn.Conv2d(64, 128, kernel_size = 3)\n",
        "        self.bn3 = nn.BatchNorm2d(128)\n",
        "        \n",
        "        self.fc1 = nn.Linear(128, 100)\n",
        "        self.out = nn.Linear(100, 2)\n",
        "    \n",
        "    def forward(self, x):\n",
        "        \n",
        "        x = F.relu(self.conv1(x))\n",
        "        x = self.bn1(x)\n",
        "        \n",
        "        x = F.relu(F.max_pool2d(self.conv2(x), stride = 2, kernel_size = 2))\n",
        "        x = self.bn2(x)\n",
        "        \n",
        "        x = F.relu(F.max_pool2d(self.conv3(x), stride = 2, kernel_size = 2))\n",
        "        x = self.bn3(x)\n",
        "        \n",
        "        x = F.relu(self.fc1(x.view(-1,128)))\n",
        "        x = self.out(x)\n",
        "        \n",
        "        return x\n",
        "    "
      ],
      "execution_count": 0,
      "outputs": []
    },
    {
      "cell_type": "code",
      "metadata": {
        "id": "EwfqG8_1T4EN",
        "colab_type": "code",
        "colab": {}
      },
      "source": [
        "\n",
        "\n",
        "###############################Second Model#####################################\n",
        "# Error rate 13-14%\n",
        "# Convergence fast\n",
        "# Computationally more expensive \n",
        "\n",
        "\n",
        "\n",
        "\n",
        "class NetWeightSharing(nn.Module):\n",
        "    def __init__(self):\n",
        "        super(NetWeightSharing, self).__init__()\n",
        "        \n",
        "        self.conv1 = nn.Conv2d(1, 32, kernel_size = 3)\n",
        "        self.bn1 = nn.BatchNorm2d(32)\n",
        "        self.conv2 = nn.Conv2d(32, 64, kernel_size = 3)\n",
        "        self.bn2 = nn.BatchNorm2d(64)\n",
        "        self.conv3 = nn.Conv2d(64, 128, kernel_size = 3)\n",
        "        self.bn3 = nn.BatchNorm2d(128)\n",
        "        \n",
        "        self.fc1 = nn.Linear(128, 100)\n",
        "        \n",
        "        self.out = nn.Linear(200, 2)\n",
        "    \n",
        "    def sharing_layers(self, x):\n",
        "        x = F.relu(self.conv1(x))\n",
        "        x = self.bn1(x)\n",
        "        \n",
        "        x = F.relu(F.max_pool2d(self.conv2(x), stride = 2, kernel_size = 2))\n",
        "        x = self.bn2(x)\n",
        "        \n",
        "        x = F.relu(F.max_pool2d(self.conv3(x), stride = 2, kernel_size = 2))\n",
        "        x = self.bn3(x)\n",
        "        x = F.relu(self.fc1(x.view(-1,128)))\n",
        "        return x\n",
        "        \n",
        "    def forward(self, x):\n",
        "        \n",
        "        x1 = self.sharing_layers(x[:,0].unsqueeze(1))\n",
        "        x2 = self.sharing_layers(x[:,1].unsqueeze(1))\n",
        "        \n",
        "        output = torch.cat((x1,x2),1)\n",
        "        output = self.out(output)\n",
        "        \n",
        "        return output\n",
        "        \n",
        "        \n",
        "        \n",
        "model = NetWeightSharing()"
      ],
      "execution_count": 0,
      "outputs": []
    },
    {
      "cell_type": "code",
      "metadata": {
        "id": "_LMYbHqET5sd",
        "colab_type": "code",
        "colab": {}
      },
      "source": [
        "\n",
        "\n",
        "#####################################Third Model###########################################\n",
        "#Error rate 10.9%\n",
        "\n",
        "\n",
        "\n",
        "\n",
        "class NetAux_Share(nn.Module):\n",
        "    def __init__(self):\n",
        "        super(NetAux_Share, self).__init__()\n",
        "        \n",
        "        self.conv1 = nn.Conv2d(1, 32, kernel_size = 3)\n",
        "        self.bn1 = nn.BatchNorm2d(32)\n",
        "        self.conv2 = nn.Conv2d(32, 64, kernel_size = 3)\n",
        "        self.bn2 = nn.BatchNorm2d(64)\n",
        "        self.conv3 = nn.Conv2d(64, 128, kernel_size = 3)\n",
        "        self.bn3 = nn.BatchNorm2d(128)\n",
        "        \n",
        "        self.fc1 = nn.Linear(128, 100)\n",
        "        \n",
        "        self.out1 = nn.Linear(100, 10)\n",
        "        self.out2 = nn.Linear(100, 10)\n",
        "        \n",
        "        self.out = nn.Linear(20, 2)\n",
        "    \n",
        "    def sharing_layers(self, x):\n",
        "        x = F.relu(self.conv1(x))\n",
        "        x = self.bn1(x)\n",
        "        \n",
        "        x = F.relu(F.max_pool2d(self.conv2(x), stride = 2, kernel_size = 2))\n",
        "        x = self.bn2(x)\n",
        "        \n",
        "        x = F.relu(F.max_pool2d(self.conv3(x), stride = 2, kernel_size = 2))\n",
        "        x = self.bn3(x)\n",
        "        x = F.relu(self.fc1(x.view(-1,128)))\n",
        "        return x\n",
        "        \n",
        "    def forward(self, x):\n",
        "        \n",
        "        x1 = self.sharing_layers(x[:,0].unsqueeze(1))\n",
        "        x2 = self.sharing_layers(x[:,1].unsqueeze(1))\n",
        "        \n",
        "        x1 = self.out1(x1)\n",
        "        x2 = self.out2(x2)\n",
        "        \n",
        "        output = torch.cat((x1,x2),1)\n",
        "        \n",
        "        output = self.out(output)\n",
        "        \n",
        "        return output, x1, x2\n"
      ],
      "execution_count": 0,
      "outputs": []
    },
    {
      "cell_type": "code",
      "metadata": {
        "id": "DWXq1WuAT7nD",
        "colab_type": "code",
        "colab": {}
      },
      "source": [
        "\n",
        "################################FULLY CONNECTED NETWORK#################################\n",
        "\n",
        "class SimpleFCNetwork(nn.Module):\n",
        "    def __init__(self, h_shapes):\n",
        "       \n",
        "        super().__init__()\n",
        "        self.length = len(h_shapes)\n",
        "        self.hidden_l = nn.ModuleList()\n",
        "        for i in range(len(h_shapes)-1):\n",
        "            self.hidden_l.append(nn.Linear(h_shapes[i], h_shapes[i+1]))\n",
        "        \n",
        "        \n",
        "        self.fc1 = nn.Linear(392, h_shapes[0])\n",
        "        self.fc3 = nn.Linear(h_shapes[self.length-1], 2)\n",
        "       \n",
        "        \n",
        "    def forward(self, x):\n",
        "      \n",
        "  \n",
        "        x = F.relu(self.fc1(x))\n",
        "     \n",
        "        for i in range(self.length-1):\n",
        "          x = F.relu(self.hidden_l[i](x))\n",
        "      \n",
        "        x = F.relu(self.fc3(x))\n",
        "       \n",
        "        return x\n",
        "\n"
      ],
      "execution_count": 0,
      "outputs": []
    },
    {
      "cell_type": "code",
      "metadata": {
        "id": "JxyyviA7UIJs",
        "colab_type": "code",
        "colab": {}
      },
      "source": [
        "################################FULLY CONNECTED NETWORK WITH AUX LOSS#################################\n",
        "\n",
        "\n",
        "class FCAux(nn.Module):\n",
        "    def __init__(self, h_shapes):\n",
        "       \n",
        "        super().__init__()\n",
        "        self.length = len(h_shapes)\n",
        "        self.hidden_l = nn.ModuleList()\n",
        "        for i in range(len(h_shapes)-1):\n",
        "            self.hidden_l.append(nn.Linear(h_shapes[i], h_shapes[i+1]))\n",
        "        \n",
        "       \n",
        "        self.fc1 = nn.Linear(392, h_shapes[0])\n",
        "        self.fc3 = nn.Linear(h_shapes[self.length-1], 2)\n",
        "        self.fc4 = nn.Linear(392, 10)\n",
        "        self.fc5 = nn.Linear(392, 10)\n",
        "        \n",
        "    def forward(self, x):\n",
        "  \n",
        "        y = x\n",
        "        z = x\n",
        "        x = F.relu(self.fc1(x))\n",
        "        y = F.relu(self.fc4(y))\n",
        "        z = F.relu(self.fc5(z))\n",
        "        for i in range(self.length-1):\n",
        "          x = F.relu(self.hidden_l[i](x))\n",
        "        \n",
        "        x = F.relu(self.fc3(x))\n",
        "       \n",
        "        return x, y, z\n",
        "\n"
      ],
      "execution_count": 0,
      "outputs": []
    },
    {
      "cell_type": "code",
      "metadata": {
        "id": "sJoZHC2vUPbc",
        "colab_type": "code",
        "colab": {}
      },
      "source": [
        "\n",
        "################################PRECISION-RECALL CURVE#################################\n",
        "def precision_recall(target, pred):\n",
        "  \n",
        "  target = [True if x else False for x in target]\n",
        "  sorted_ind = sorted(range(len(list(pred))), key=lambda k: list(pred)[k])\n",
        "  sorted_ind.reverse()\n",
        "\n",
        "  pred = [pred[i] for i in sorted_ind]\n",
        "\n",
        "  target = [target[i] for i in sorted_ind]\n",
        "\n",
        "  uniqs = list(set(list(pred)))\n",
        "  uniqs.sort(reverse=True)\n",
        "  \n",
        "  indexes = [list(pred).index(x) for x in uniqs]\n",
        "\n",
        "  t = [1 if x else 0 for x in target]\n",
        "  tp_accum = list(accumulate(t))\n",
        "  \n",
        "  \n",
        "  tps = [tp_accum[i] for i in indexes]\n",
        "\n",
        "  ones = [1]*(len(target))\n",
        "  fp_accum = list(accumulate([a_i - b_i for a_i, b_i in zip(ones, t)]))\n",
        "  fps = [1+t-tp for t,tp in zip(indexes,tps)]\n",
        "\n",
        "  \n",
        "  precision = [x/(x + y) if x+y else 0 for x,y in zip(tps,fps)]\n",
        "  recall =  [x/tps[-1] if tps[-1] else 0 for x in tps]\n",
        "\n",
        "  thresholds = [pred[i] for i in indexes]\n",
        "  \n",
        "  last_ind = len(tps)-2\n",
        "  sl = slice(last_ind, None, -1)\n",
        "\n",
        "  pre = precision[sl]\n",
        "  pre.append(1.0)\n",
        "  rec = recall[sl]\n",
        "  rec.append(0.0)\n",
        "  return pre, rec, thresholds[sl]\n"
      ],
      "execution_count": 0,
      "outputs": []
    },
    {
      "cell_type": "code",
      "metadata": {
        "id": "ch4v0KM1URRh",
        "colab_type": "code",
        "colab": {}
      },
      "source": [
        "################################ROC CURVE#################################\n",
        "\n",
        "def roc_true(target, pred):\n",
        "  \n",
        "  target = [True if x else False for x in target]\n",
        "  sorted_ind = sorted(range(len(list(pred))), key=lambda k: list(pred)[k])\n",
        "  sorted_ind.reverse()\n",
        " \n",
        "  pred = [pred[i] for i in sorted_ind]\n",
        "\n",
        "  target = [target[i] for i in sorted_ind]\n",
        "\n",
        "  uniqs = list(set(list(pred)))\n",
        "  uniqs.sort(reverse=True)\n",
        "  \n",
        "  indexes = [list(pred).index(x) for x in uniqs]\n",
        "  \n",
        "\n",
        "  t = [1 if x else 0 for x in target]\n",
        "  tp_accum = list(accumulate(t))\n",
        "  \n",
        "  \n",
        "  tps = [tp_accum[i] for i in indexes]\n",
        "\n",
        "  ones = [1]*(len(target))\n",
        "  fp_accum = list(accumulate([a_i - b_i for a_i, b_i in zip(ones, t)]))\n",
        "  fps = [1+t-tp for t,tp in zip(indexes,tps)]\n",
        "\n",
        "  thresholds = [pred[i] for i in indexes]\n",
        "\n",
        "  thresholds.insert(0, thresholds[0] + 1)\n",
        "  tps.insert(0, 0)\n",
        "  fps.insert(0, 0)\n",
        "  fpr = [i/fps[-1] for i in fps]\n",
        "  tpr = [i/tps[-1] for i in tps]\n",
        "\n",
        "  return fpr, tpr, thresholds\n"
      ],
      "execution_count": 0,
      "outputs": []
    },
    {
      "cell_type": "code",
      "metadata": {
        "id": "VE1LmTKWUWIf",
        "colab_type": "code",
        "colab": {
          "base_uri": "https://localhost:8080/",
          "height": 34
        },
        "outputId": "983d8432-66bf-4cc0-c225-3615bcfe03d5"
      },
      "source": [
        "\n",
        "\n",
        "################################Training Function#################################\n",
        "def training_model(train_input, train_target, model, batch, lr):\n",
        "    model.to(device)\n",
        "    train_input.to(device)\n",
        "    train_target.to(device)\n",
        "    optimizer = torch.optim.SGD(model.parameters(), lr = lr)\n",
        "    criterion = nn.CrossEntropyLoss()\n",
        "    total_loss = 0\n",
        "    for b in range(0, train_input.size(0), batch):\n",
        "        output = model(train_input.narrow(0, b, batch).to(device))            \n",
        "        loss = criterion(output, train_target.narrow(0, b, batch).to(device))\n",
        "        model.zero_grad()\n",
        "        loss.backward()\n",
        "        optimizer.step()\n",
        "        total_loss += loss.item()\n",
        "    return total_loss \n",
        "\n",
        "\n",
        "def compute_nb_errors(model, data_input, data_target, batch):\n",
        "    model.to(device)\n",
        "    data_input.to(device)\n",
        "    data_target.to(device)\n",
        "    nb_data_errors = 0\n",
        "\n",
        "    for b in range(0, data_input.size(0), batch):\n",
        "        output = model(data_input.narrow(0, b, batch).to(device))\n",
        "        _, predicted_classes = torch.max(output, 1)\n",
        "        for k in range(batch):\n",
        "            if data_target[b + k] != predicted_classes[k]:\n",
        "                nb_data_errors = nb_data_errors + 1\n",
        "    return nb_data_errors\n",
        "\n",
        "##########################Train Aux Function########################################\n",
        "    \n",
        "def training_aux(CNNFlag, train_input, train_target, train_classes, model, batch, lr):\n",
        "    model.to(device)\n",
        "    train_input.to(device)\n",
        "    train_target.to(device)\n",
        "    train_classes.to(device)\n",
        "    optimizer = torch.optim.SGD(model.parameters(), lr = lr)\n",
        "    Binary_Criterion = nn.CrossEntropyLoss()\n",
        "    Aux_Criterion = nn.CrossEntropyLoss()\n",
        "    total_loss_aux = 0\n",
        "    total_loss_bin = 0\n",
        "    final_total_loss = 0\n",
        "    for b in range(0, train_input.size(0), batch):\n",
        "     \n",
        "      output, aux1, aux2 = model(train_input.narrow(0, b, batch).to(device))\n",
        "      \n",
        "      target_classes = train_classes.narrow(0, b, batch).to(device)\n",
        "      target_comparison = train_target.narrow(0, b, batch).to(device)\n",
        "    \n",
        "      aux_loss = Aux_Criterion(aux1, target_classes[:,0].to(device)) + Aux_Criterion(aux2, target_classes[:,1].to(device))\n",
        "     \n",
        "      binary_loss = Binary_Criterion(output, target_comparison)\n",
        "      final_loss = 0.7*binary_loss + 0.3*aux_loss\n",
        "      model.zero_grad()\n",
        "      final_loss.backward()\n",
        "      optimizer.step()\n",
        "      total_loss_aux += aux_loss\n",
        "      total_loss_bin += binary_loss\n",
        "      final_total_loss += final_loss\n",
        "    return final_total_loss, total_loss_aux, total_loss_bin\n",
        "\n",
        "def compute_nb_errors_aux(CNNFlag, model, data_input, data_target, batch):\n",
        "    model.to(device)\n",
        "    data_input.to(device)\n",
        "    data_target.to(device)\n",
        "    \n",
        "    nb_data_errors = 0\n",
        "\n",
        "    for b in range(0, data_input.size(0), batch):\n",
        "      \n",
        "      output,_,_ = model(data_input.narrow(0, b, batch).to(device))\n",
        "      \n",
        "      _, predicted_classes = torch.max(output, 1)\n",
        "      for k in range(batch):\n",
        "          if data_target[b + k] != predicted_classes[k]:\n",
        "              nb_data_errors = nb_data_errors + 1\n",
        "    return nb_data_errors\n",
        "\n",
        "\n"
      ],
      "execution_count": 13,
      "outputs": [
        {
          "output_type": "stream",
          "text": [
            "\n"
          ],
          "name": "stdout"
        }
      ]
    },
    {
      "cell_type": "code",
      "metadata": {
        "id": "2xfpn1wcZ-BB",
        "colab_type": "code",
        "colab": {}
      },
      "source": [
        "def train_until_convergence(CNNFlag, AuxFlag, model, training_data, training_target, training_classes, batch, l):\n",
        "  prev_loss = 999999\n",
        "  #TRAIN UNTIL CINVERGENCE\n",
        "  epochs = 0\n",
        "  while(True):\n",
        "    epochs += 1\n",
        "    if not AuxFlag:\n",
        "      cur_loss = training_model(training_data, training_target, model, batch, l)\n",
        "    else:\n",
        "      cur_loss, _, _ = training_aux(CNNFlag, training_data, training_target, training_classes, model, batch, l)\n",
        "    \n",
        "    \n",
        "    if(abs(prev_loss - cur_loss) <= 0.001):\n",
        "      break\n",
        "    prev_loss = cur_loss\n",
        "  return epochs"
      ],
      "execution_count": 0,
      "outputs": []
    },
    {
      "cell_type": "code",
      "metadata": {
        "id": "FAJrmSViaQuK",
        "colab_type": "code",
        "colab": {}
      },
      "source": [
        "def report_error(CNNFlag, AuxFlag, model, test_data, test_target, batch):\n",
        "  error = 0\n",
        "  if not AuxFlag: \n",
        "    error = compute_nb_errors(model, test_data,test_target, batch)\n",
        "  else:\n",
        "    error = compute_nb_errors_aux(CNNFlag, model, test_data,test_target, batch)\n",
        "  return error\n"
      ],
      "execution_count": 0,
      "outputs": []
    },
    {
      "cell_type": "code",
      "metadata": {
        "id": "gGliPciAUXws",
        "colab_type": "code",
        "colab": {}
      },
      "source": [
        "################################HYPERPARAMETER TUNING WITH CROSSVALIDATION#################################\n",
        "def cross_validation_tuning(CNNFlag, AuxFlag,train_data, train_target, training_classes, k, lr, batches, neurons = None):\n",
        "  err_min = 999999\n",
        "\n",
        "  #TUNING NUMBER OF BATCHES\n",
        "  for batch in batches:\n",
        "    #TUNING LEARNING RATE\n",
        "    for l in lr:\n",
        "      #CHECKING IF TUNING IS FIR A CNN NETWORK\n",
        "      if(not CNNFlag):\n",
        "        #TUNING FOR NUMBER OF HIDDEN LAYERS FOR FC NETWORK\n",
        "        for neuron_count in neurons:\n",
        "          error = 0\n",
        "          #CROSS VALIDATION\n",
        "          for i in range(1, k + 1): \n",
        "            if not AuxFlag:\n",
        "              model = SimpleFCNetwork(neuron_count)\n",
        "            else:\n",
        "              model = FCAux(neuron_count)\n",
        "            #FOLDING THE DATA\n",
        "            test_data, train_1_data, train_2_data = k_fold(train_data, i, k)\n",
        "            test_target, train_1_target, train_2_target = k_fold(train_target, i, k)\n",
        "            training_data = torch.cat((train_1_data,train_2_data),0)\n",
        "            training_target = torch.cat((train_1_target,train_2_target),0)\n",
        "            prev_loss = 999999\n",
        "            #TRAIN UNTIL CINVERGENCE\n",
        "            train_until_convergence(CNNFlag, AuxFlag, model, training_data, training_target, train_classes, batch, l)\n",
        "\n",
        "            error += report_error(CNNFlag, AuxFlag, model, test_data, test_target, batch)\n",
        "          error /= k\n",
        "          \n",
        "          if error < err_min:\n",
        "            err_min = error\n",
        "            l_min = l\n",
        "            batch_min = batch\n",
        "            neruron_min =  neuron_count if neurons else None\n",
        "      #NUMBER OF HIDDEN LAYERS IS NOT TUNED FOR CNN\n",
        "      else:\n",
        "       \n",
        "        error = 0\n",
        "        #CROSS VALIDATION\n",
        "        for i in range(1, k + 1): \n",
        "          #FOLDING THE DATA\n",
        "          test_data, train_1_data, train_2_data = k_fold(train_data, i, k)\n",
        "          test_target, train_1_target, train_2_target = k_fold(train_target, i, k)\n",
        "          training_data = torch.cat((train_1_data,train_2_data),0)\n",
        "          training_target = torch.cat((train_1_target,train_2_target),0)\n",
        "          if not AuxFlag:\n",
        "            model = NetWeightSharing()\n",
        "          else:\n",
        "            model = NetAux_Share()\n",
        "          prev_loss = 999999\n",
        "          #TRAIN UNTIL CONVERGENCE\n",
        "          train_until_convergence(CNNFlag, AuxFlag, model, training_data, training_target, train_classes, batch, l)\n",
        " \n",
        "\n",
        "          error += report_error(CNNFlag, AuxFlag, model, test_data, test_target, batch)\n",
        "        error /= k\n",
        "\n",
        "       \n",
        "        #TAKE THE HYPERPARAMETERS WITH MINIMAL ERROR\n",
        "        if error < err_min:\n",
        "          err_min = error\n",
        "          l_min = l\n",
        "          batch_min = batch\n",
        "          neruron_min =  neuron_count if neurons else None\n",
        "  return err_min, l_min, batch_min, neruron_min\n",
        "  "
      ],
      "execution_count": 0,
      "outputs": []
    },
    {
      "cell_type": "code",
      "metadata": {
        "id": "oF3_7518gfs9",
        "colab_type": "code",
        "colab": {}
      },
      "source": [
        "def get_predictions(CNNFlag, AuxFlag, model, test_input):\n",
        "  if not AuxFlag:\n",
        "    output = model(test_input.to(device))\n",
        "  else:\n",
        "    output, _, _ = model(test_input.to(device))\n",
        " \n",
        "\n",
        "  m = nn.Softmax()\n",
        "  probs = m(output)\n",
        "  return probs[:, 1]\n",
        "\n",
        "  "
      ],
      "execution_count": 0,
      "outputs": []
    },
    {
      "cell_type": "code",
      "metadata": {
        "id": "lZZZBoNqePIU",
        "colab_type": "code",
        "colab": {}
      },
      "source": [
        "def plot_roc_curve(test_target, predictions):\n",
        "  fpr, tpr, _  = (roc_true(test_target, predictions))\n",
        "  plt.plot(fpr, tpr, marker='.', label='mlp')\n",
        "  plt.xlabel('False Positive Rate')\n",
        "  plt.ylabel('True Positive Rate')\n",
        "  # show the legend\n",
        "  plt.legend()\n",
        "  # show the plot\n",
        "  plt.show()\n"
      ],
      "execution_count": 0,
      "outputs": []
    },
    {
      "cell_type": "code",
      "metadata": {
        "id": "iS_bscfWfqpq",
        "colab_type": "code",
        "colab": {}
      },
      "source": [
        "def  plot_precision_recall_curve(test_target, predictions):\n",
        "  lr_recall, lr_precision, _  = (precision_recall(test_target, predictions))\n",
        "  plt.plot(lr_recall, lr_precision, marker='.', label='Logistic')\n",
        "  # axis labels\n",
        "  plt.xlabel('Recall')\n",
        "  plt.ylabel('Precision')\n",
        "  plt.show()\n"
      ],
      "execution_count": 0,
      "outputs": []
    },
    {
      "cell_type": "code",
      "metadata": {
        "id": "lcubmjdZi9f0",
        "colab_type": "code",
        "colab": {}
      },
      "source": [
        "################# TUNING OUR MODELS ###########\n",
        "optimal_parameters = []\n",
        "#Tuning for weight shared CNN with no Aux loss\n",
        "optimal_parameters.append( cross_validation_tuning(True, False, train_input, train_target, train_classes,10,[0.1,0.05,0.01,0.005],[20, 100, 50]))\n",
        "#Tuning for weight shared CNN with Aux loss\n",
        "optimal_parameters.append( cross_validation_tuning(True, True, train_input, train_target, train_classes,10,[0.1,0.05,0.01,0.005],[20, 100, 50]))\n",
        "#Tuning for FC network with no Aux loss\n",
        "optimal_parameters.append( cross_validation_tuning(False, False, train_input_first_approach, train_target, train_classes,10,[0.1,0.005,0.01,0.05,0.001],[100, 50, 20],[[200, 50, 10],[150, 100],[100,20],[150, 50,20, 10],[100],[50]]))\n",
        "#Tuning for FC network with Aux loss\n",
        "optimal_parameters.append( cross_validation_tuning(False, True, train_input_first_approach, train_target, train_classes,10,[0.1,0.005,0.01,0.05,0.001],[100, 50, 20],[[200, 50, 10],[150, 100],[100,20],[150, 50, 20, 10],[100],[50]]))"
      ],
      "execution_count": 0,
      "outputs": []
    },
    {
      "cell_type": "code",
      "metadata": {
        "id": "aIZF3GSy-IVU",
        "colab_type": "code",
        "colab": {
          "base_uri": "https://localhost:8080/",
          "height": 34
        },
        "outputId": "b94b6aaf-86a2-41d6-c5bb-8f94dc0c527a"
      },
      "source": [
        "#OUTPITTING OPTIMAL PARAMETERS FOR EACH MODEL\n",
        "print(optimal_parameters)"
      ],
      "execution_count": 21,
      "outputs": [
        {
          "output_type": "stream",
          "text": [
            "[(14.4, 0.1, 20, None), (18.2, 0.1, 20, None), (20.8, 0.01, 20, [150, 50, 20, 10]), (21.1, 0.005, 50, [150, 50, 20, 10])]\n"
          ],
          "name": "stdout"
        }
      ]
    },
    {
      "cell_type": "code",
      "metadata": {
        "id": "FDOjIp_-dtrB",
        "colab_type": "code",
        "colab": {
          "base_uri": "https://localhost:8080/",
          "height": 648
        },
        "outputId": "d950a7ae-ab60-4080-8b38-268e6ced35e0"
      },
      "source": [
        "#############################Training Part###############################\n",
        "RandomSeeds = list(range(1,11))\n",
        "mean_predictions = 0\n",
        "mean_epochs = 0\n",
        "errors = []\n",
        "for seed in RandomSeeds:\n",
        "  torch.manual_seed(seed)\n",
        "  torch.cuda.manual_seed(seed)\n",
        "  model = NetWeightSharing()\n",
        "  number_of_epochs = train_until_convergence(True, False, model, train_input, train_target, train_classes, optimal_parameters[0][2], optimal_parameters[0][1])\n",
        "  mean_epochs += number_of_epochs\n",
        "  error = report_error(True, False, model, test_input, test_target, optimal_parameters[0][2])/len(test_target)\n",
        "  \n",
        "  errors.append(error)\n",
        "  mean_predictions += get_predictions(True, False,model, test_input)\n",
        "  \n",
        "\n",
        "\n",
        "mean_predictions /= len(RandomSeeds)\n",
        "mean_epochs /= len(RandomSeeds)\n",
        "print(\"Average number of epochs until convergence:\", mean_epochs)\n",
        "mean_error = statistics.mean(errors)\n",
        "print(\"Mean of errors:\", mean_error)\n",
        "std_error = statistics.stdev(errors)\n",
        "print(\"Standard deviation of errors:\", std_error)\n",
        "plot_precision_recall_curve(test_target.tolist(), torch.flatten(mean_predictions).tolist())\n",
        "plot_roc_curve(test_target.tolist(), torch.flatten(mean_predictions).tolist())\n",
        "\n"
      ],
      "execution_count": 22,
      "outputs": [
        {
          "output_type": "stream",
          "text": [
            "/usr/local/lib/python3.6/dist-packages/ipykernel_launcher.py:9: UserWarning: Implicit dimension choice for softmax has been deprecated. Change the call to include dim=X as an argument.\n",
            "  if __name__ == '__main__':\n"
          ],
          "name": "stderr"
        },
        {
          "output_type": "stream",
          "text": [
            "Average number of epochs until convergence: 23.1\n",
            "Mean of errors: 0.12990000000000002\n",
            "Standard deviation of errors: 0.006935416353759887\n"
          ],
          "name": "stdout"
        },
        {
          "output_type": "display_data",
          "data": {
            "image/png": "[encoded data removed]",
            "text/plain": [
              "<Figure size 432x288 with 1 Axes>"
            ]
          },
          "metadata": {
            "tags": [],
            "needs_background": "light"
          }
        },
        {
          "output_type": "display_data",
          "data": {
            "image/png": "[encoded data removed]",
            "text/plain": [
              "<Figure size 432x288 with 1 Axes>"
            ]
          },
          "metadata": {
            "tags": [],
            "needs_background": "light"
          }
        }
      ]
    },
    {
      "cell_type": "code",
      "metadata": {
        "id": "LKerpnEwidnv",
        "colab_type": "code",
        "colab": {
          "base_uri": "https://localhost:8080/",
          "height": 648
        },
        "outputId": "b35bf5cc-ea62-4d25-f0c0-d2673c78f9c0"
      },
      "source": [
        "\n",
        "mean_predictions = 0\n",
        "mean_epochs = 0\n",
        "errors = []\n",
        "for seed in RandomSeeds:\n",
        "  torch.manual_seed(seed)\n",
        "  torch.cuda.manual_seed(seed)\n",
        "  model = NetAux_Share()\n",
        "  number_of_epochs = train_until_convergence(True, True, model, train_input, train_target, train_classes, optimal_parameters[1][2], optimal_parameters[1][1])\n",
        "  mean_epochs += number_of_epochs\n",
        "  error = report_error(True, True, model, test_input, test_target, optimal_parameters[1][2])/len(test_target)\n",
        "  errors.append(error)\n",
        " \n",
        "  mean_predictions += get_predictions(True, True, model, test_input)\n",
        "  \n",
        "\n",
        "mean_predictions /= len(RandomSeeds)\n",
        "mean_epochs /= len(RandomSeeds)\n",
        "print(\"Average number of epochs until convergence:\", mean_epochs)\n",
        "mean_error = statistics.mean(errors)\n",
        "print(\"Mean of errors:\", mean_error)\n",
        "std_error = statistics.stdev(errors)\n",
        "print(\"Standard deviation of errors:\", std_error)\n",
        "plot_precision_recall_curve(test_target.tolist(), torch.flatten(mean_predictions).tolist())\n",
        "plot_roc_curve(test_target.tolist(), torch.flatten(mean_predictions).tolist())\n"
      ],
      "execution_count": 23,
      "outputs": [
        {
          "output_type": "stream",
          "text": [
            "/usr/local/lib/python3.6/dist-packages/ipykernel_launcher.py:9: UserWarning: Implicit dimension choice for softmax has been deprecated. Change the call to include dim=X as an argument.\n",
            "  if __name__ == '__main__':\n"
          ],
          "name": "stderr"
        },
        {
          "output_type": "stream",
          "text": [
            "Average number of epochs until convergence: 44.4\n",
            "Mean of errors: 0.0983\n",
            "Standard deviation of errors: 0.005716448003592596\n"
          ],
          "name": "stdout"
        },
        {
          "output_type": "display_data",
          "data": {
            "image/png": "[encoded data removed]",
            "text/plain": [
              "<Figure size 432x288 with 1 Axes>"
            ]
          },
          "metadata": {
            "tags": [],
            "needs_background": "light"
          }
        },
        {
          "output_type": "display_data",
          "data": {
            "image/png": "[encoded data removed]",
            "text/plain": [
              "<Figure size 432x288 with 1 Axes>"
            ]
          },
          "metadata": {
            "tags": [],
            "needs_background": "light"
          }
        }
      ]
    },
    {
      "cell_type": "code",
      "metadata": {
        "id": "f26nAEn-jSVC",
        "colab_type": "code",
        "colab": {
          "base_uri": "https://localhost:8080/",
          "height": 648
        },
        "outputId": "e342a3f6-26d0-430d-ad32-34472bfb73e2"
      },
      "source": [
        "\n",
        "mean_predictions = 0\n",
        "mean_epochs = 0\n",
        "errors = []\n",
        "for seed in RandomSeeds:\n",
        "  torch.manual_seed(seed)\n",
        "  torch.cuda.manual_seed(seed)\n",
        "  model = SimpleFCNetwork(optimal_parameters[2][3])\n",
        "  \n",
        "  number_of_epochs = train_until_convergence(False, False, model, train_input_first_approach, train_target, train_classes, optimal_parameters[2][2], optimal_parameters[2][1])\n",
        "  mean_epochs += number_of_epochs\n",
        "  error = report_error(False, False, model, test_input_first_approach, test_target, optimal_parameters[2][2])/len(test_target)\n",
        "  errors.append(error)\n",
        "  \n",
        " \n",
        "  mean_predictions += get_predictions(False, False, model, test_input_first_approach)\n",
        "  \n",
        "\n",
        "mean_predictions /= len(RandomSeeds)\n",
        "mean_epochs /= len(RandomSeeds)\n",
        "print(\"Average number of epochs until convergence:\", mean_epochs)\n",
        "mean_error = statistics.mean(errors)\n",
        "print(\"Mean of errors:\", mean_error)\n",
        "std_error = statistics.stdev(errors)\n",
        "print(\"Standard deviation of errors:\", std_error)\n",
        "plot_precision_recall_curve(test_target.tolist(), torch.flatten(mean_predictions).tolist())\n",
        "plot_roc_curve(test_target.tolist(), torch.flatten(mean_predictions).tolist())\n"
      ],
      "execution_count": 24,
      "outputs": [
        {
          "output_type": "stream",
          "text": [
            "/usr/local/lib/python3.6/dist-packages/ipykernel_launcher.py:9: UserWarning: Implicit dimension choice for softmax has been deprecated. Change the call to include dim=X as an argument.\n",
            "  if __name__ == '__main__':\n"
          ],
          "name": "stderr"
        },
        {
          "output_type": "stream",
          "text": [
            "Average number of epochs until convergence: 35.0\n",
            "Mean of errors: 0.2276\n",
            "Standard deviation of errors: 0.104970048638224\n"
          ],
          "name": "stdout"
        },
        {
          "output_type": "display_data",
          "data": {
            "image/png": "[encoded data removed]",
            "text/plain": [
              "<Figure size 432x288 with 1 Axes>"
            ]
          },
          "metadata": {
            "tags": [],
            "needs_background": "light"
          }
        },
        {
          "output_type": "display_data",
          "data": {
            "image/png": "[encoded data removed]",
            "text/plain": [
              "<Figure size 432x288 with 1 Axes>"
            ]
          },
          "metadata": {
            "tags": [],
            "needs_background": "light"
          }
        }
      ]
    },
    {
      "cell_type": "code",
      "metadata": {
        "id": "EgP-DddKcLDZ",
        "colab_type": "code",
        "colab": {
          "base_uri": "https://localhost:8080/",
          "height": 648
        },
        "outputId": "82bab84e-14dc-4f61-a4b1-9e132163a74b"
      },
      "source": [
        "\n",
        "mean_predictions = 0\n",
        "mean_epochs = 0\n",
        "errors = []\n",
        "for seed in RandomSeeds:\n",
        "  torch.manual_seed(seed)\n",
        "  torch.cuda.manual_seed(seed)\n",
        "  model = FCAux(optimal_parameters[3][3])\n",
        "  \n",
        "  number_of_epochs = train_until_convergence(False, True, model, train_input_first_approach, train_target, train_classes, optimal_parameters[3][2], optimal_parameters[3][1])\n",
        "  mean_epochs += number_of_epochs\n",
        "  error = report_error(False, True, model, test_input_first_approach, test_target, optimal_parameters[3][2])/len(test_target)\n",
        "  errors.append(error)\n",
        "  \n",
        " \n",
        "  mean_predictions += get_predictions(False, True, model, test_input_first_approach)\n",
        "  \n",
        "\n",
        "mean_predictions /= len(RandomSeeds)\n",
        "mean_epochs /= len(RandomSeeds)\n",
        "print(\"Average number of epochs until convergence:\", mean_epochs)\n",
        "mean_error = statistics.mean(errors)\n",
        "print(\"Mean of errors:\", mean_error)\n",
        "std_error = statistics.stdev(errors)\n",
        "print(\"Standard deviation of errors:\", std_error)\n",
        "plot_precision_recall_curve(test_target.tolist(), torch.flatten(mean_predictions).tolist())\n",
        "plot_roc_curve(test_target.tolist(), torch.flatten(mean_predictions).tolist())\n"
      ],
      "execution_count": 25,
      "outputs": [
        {
          "output_type": "stream",
          "text": [
            "/usr/local/lib/python3.6/dist-packages/ipykernel_launcher.py:9: UserWarning: Implicit dimension choice for softmax has been deprecated. Change the call to include dim=X as an argument.\n",
            "  if __name__ == '__main__':\n"
          ],
          "name": "stderr"
        },
        {
          "output_type": "stream",
          "text": [
            "Average number of epochs until convergence: 70.4\n",
            "Mean of errors: 0.2202\n",
            "Standard deviation of errors: 0.014382087624696364\n"
          ],
          "name": "stdout"
        },
        {
          "output_type": "display_data",
          "data": {
            "image/png": "[encoded data removed]",
            "text/plain": [
              "<Figure size 432x288 with 1 Axes>"
            ]
          },
          "metadata": {
            "tags": [],
            "needs_background": "light"
          }
        },
        {
          "output_type": "display_data",
          "data": {
            "image/png": "[encoded data removed]",
            "text/plain": [
              "<Figure size 432x288 with 1 Axes>"
            ]
          },
          "metadata": {
            "tags": [],
            "needs_background": "light"
          }
        }
      ]
    },
    {
      "cell_type": "code",
      "metadata": {
        "id": "K92k0NB4og8a",
        "colab_type": "code",
        "colab": {}
      },
      "source": [
        ""
      ],
      "execution_count": 0,
      "outputs": []
    },
    {
      "cell_type": "code",
      "metadata": {
        "id": "C3amtuT7A1pD",
        "colab_type": "code",
        "colab": {}
      },
      "source": [
        ""
      ],
      "execution_count": 0,
      "outputs": []
    }
  ]
}